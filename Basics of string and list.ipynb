{
 "cells": [
  {
   "cell_type": "code",
   "execution_count": 1,
   "id": "c8ea0d89-749f-464f-93ee-78f3eb5ad62f",
   "metadata": {},
   "outputs": [
    {
     "data": {
      "text/plain": [
       "[1, 2, 3, (5+8j), True, False, 56, 78]"
      ]
     },
     "execution_count": 1,
     "metadata": {},
     "output_type": "execute_result"
    }
   ],
   "source": [
    "l = [1, 2, 3, 5+8j , True, False, 56,78]\n",
    "l"
   ]
  },
  {
   "cell_type": "code",
   "execution_count": 2,
   "id": "9d119ab0-cc01-40ee-988f-b34b845f4397",
   "metadata": {},
   "outputs": [
    {
     "data": {
      "text/plain": [
       "list"
      ]
     },
     "execution_count": 2,
     "metadata": {},
     "output_type": "execute_result"
    }
   ],
   "source": [
    "type(l)"
   ]
  },
  {
   "cell_type": "code",
   "execution_count": 4,
   "id": "9db07b50-90be-4c3a-83f9-ae22cd950a50",
   "metadata": {},
   "outputs": [
    {
     "name": "stdout",
     "output_type": "stream",
     "text": [
      "1\n",
      "2\n",
      "3\n",
      "(5+8j)\n",
      "True\n",
      "False\n",
      "56\n",
      "78\n"
     ]
    }
   ],
   "source": [
    "for i in l:\n",
    "    print(i)"
   ]
  },
  {
   "cell_type": "code",
   "execution_count": 5,
   "id": "9fb65cd4-8b26-486e-b96f-f9e41d0b5d1f",
   "metadata": {},
   "outputs": [
    {
     "data": {
      "text/plain": [
       "[3, (5+8j), True, False]"
      ]
     },
     "execution_count": 5,
     "metadata": {},
     "output_type": "execute_result"
    }
   ],
   "source": [
    "l[2:6] #Slicing of list"
   ]
  },
  {
   "cell_type": "code",
   "execution_count": 6,
   "id": "e9b49252-ddd5-4110-86fc-8f2792b6712f",
   "metadata": {},
   "outputs": [
    {
     "data": {
      "text/plain": [
       "[1, 2, 3, (5+8j), True, False, 56, 78]"
      ]
     },
     "execution_count": 6,
     "metadata": {},
     "output_type": "execute_result"
    }
   ],
   "source": [
    "l[::]"
   ]
  },
  {
   "cell_type": "code",
   "execution_count": 10,
   "id": "408d337d-be30-46e2-b2e9-453c823a2d1d",
   "metadata": {},
   "outputs": [
    {
     "data": {
      "text/plain": [
       "8"
      ]
     },
     "execution_count": 10,
     "metadata": {},
     "output_type": "execute_result"
    }
   ],
   "source": [
    "len(l)"
   ]
  },
  {
   "cell_type": "code",
   "execution_count": 11,
   "id": "1c23570f-e1ec-4467-b9d1-7245a7cc85e3",
   "metadata": {},
   "outputs": [
    {
     "data": {
      "text/plain": [
       "'[1, 2, 3, (5+8j), True, False, 56, 78]'"
      ]
     },
     "execution_count": 11,
     "metadata": {},
     "output_type": "execute_result"
    }
   ],
   "source": [
    "str(l)"
   ]
  },
  {
   "cell_type": "code",
   "execution_count": 13,
   "id": "8cf8ff5a-5913-4668-a3d4-0f6b9a64a2f2",
   "metadata": {},
   "outputs": [
    {
     "data": {
      "text/plain": [
       "[1, 2, 3, (5+8j), True, False, 56, 78]"
      ]
     },
     "execution_count": 13,
     "metadata": {},
     "output_type": "execute_result"
    }
   ],
   "source": [
    "l[0:90]"
   ]
  },
  {
   "cell_type": "code",
   "execution_count": 14,
   "id": "3f837d41-4417-4464-baa2-d9305acead4b",
   "metadata": {},
   "outputs": [
    {
     "data": {
      "text/plain": [
       "78"
      ]
     },
     "execution_count": 14,
     "metadata": {},
     "output_type": "execute_result"
    }
   ],
   "source": [
    "l[-1]"
   ]
  },
  {
   "cell_type": "code",
   "execution_count": 15,
   "id": "7d8e3fb4-9ea8-4f4a-8424-0446f8864af8",
   "metadata": {},
   "outputs": [
    {
     "data": {
      "text/plain": [
       "[78, 56, False, True, (5+8j), 3, 2, 1]"
      ]
     },
     "execution_count": 15,
     "metadata": {},
     "output_type": "execute_result"
    }
   ],
   "source": [
    "l[::-1] #For reverse the list"
   ]
  },
  {
   "cell_type": "code",
   "execution_count": 16,
   "id": "40920a22-4610-4075-8202-b2870137440e",
   "metadata": {},
   "outputs": [
    {
     "data": {
      "text/plain": [
       "[1, 2, 3, (5+8j), True, False, 56, 78]"
      ]
     },
     "execution_count": 16,
     "metadata": {},
     "output_type": "execute_result"
    }
   ],
   "source": [
    "l"
   ]
  },
  {
   "cell_type": "code",
   "execution_count": 17,
   "id": "4a3c70ec-1dda-4bfa-ae93-945ca893a463",
   "metadata": {},
   "outputs": [
    {
     "data": {
      "text/plain": [
       "[1, 3, True, 56]"
      ]
     },
     "execution_count": 17,
     "metadata": {},
     "output_type": "execute_result"
    }
   ],
   "source": [
    "l[::2]"
   ]
  },
  {
   "cell_type": "code",
   "execution_count": 18,
   "id": "427f8eab-af82-467b-8e78-9367a474c5af",
   "metadata": {},
   "outputs": [],
   "source": [
    "l.append(\"pwskills\")"
   ]
  },
  {
   "cell_type": "code",
   "execution_count": 19,
   "id": "96136156-6136-461e-b7d6-598278dd8170",
   "metadata": {},
   "outputs": [
    {
     "data": {
      "text/plain": [
       "[1, 2, 3, (5+8j), True, False, 56, 78, 'pwskills']"
      ]
     },
     "execution_count": 19,
     "metadata": {},
     "output_type": "execute_result"
    }
   ],
   "source": [
    "l"
   ]
  },
  {
   "cell_type": "code",
   "execution_count": 29,
   "id": "64882ada-d20f-400a-b990-afd52e7fff36",
   "metadata": {},
   "outputs": [
    {
     "ename": "ValueError",
     "evalue": "34 is not in list",
     "output_type": "error",
     "traceback": [
      "\u001b[0;31m---------------------------------------------------------------------------\u001b[0m",
      "\u001b[0;31mValueError\u001b[0m                                Traceback (most recent call last)",
      "Cell \u001b[0;32mIn[29], line 1\u001b[0m\n\u001b[0;32m----> 1\u001b[0m \u001b[43ml\u001b[49m\u001b[38;5;241;43m.\u001b[39;49m\u001b[43mindex\u001b[49m\u001b[43m(\u001b[49m\u001b[38;5;241;43m34\u001b[39;49m\u001b[43m,\u001b[49m\u001b[38;5;241;43m0\u001b[39;49m\u001b[43m)\u001b[49m\n\u001b[1;32m      2\u001b[0m l\n",
      "\u001b[0;31mValueError\u001b[0m: 34 is not in list"
     ]
    }
   ],
   "source": [
    "l.index(34,0)\n",
    "l"
   ]
  },
  {
   "cell_type": "code",
   "execution_count": 30,
   "id": "2cf555b2-db84-47fc-8413-c5de7787c498",
   "metadata": {},
   "outputs": [
    {
     "data": {
      "text/plain": [
       "[1, 2, 3, (5+8j), True, False, 56, 78, 'pwskills']"
      ]
     },
     "execution_count": 30,
     "metadata": {},
     "output_type": "execute_result"
    }
   ],
   "source": [
    "l"
   ]
  },
  {
   "cell_type": "code",
   "execution_count": 37,
   "id": "2e26db04-1ba7-4303-8ca1-2ffb2c36d577",
   "metadata": {},
   "outputs": [
    {
     "data": {
      "text/plain": [
       "'pw'"
      ]
     },
     "execution_count": 37,
     "metadata": {},
     "output_type": "execute_result"
    }
   ],
   "source": [
    "l[8][:2] #using slicing operation taken out string words"
   ]
  },
  {
   "cell_type": "code",
   "execution_count": 38,
   "id": "9497cdb3-3f54-4fac-93a8-2ac7a96c1242",
   "metadata": {},
   "outputs": [
    {
     "data": {
      "text/plain": [
       "[1, 2, 3, (5+8j), True, False, 56, 78, 'pwskills']"
      ]
     },
     "execution_count": 38,
     "metadata": {},
     "output_type": "execute_result"
    }
   ],
   "source": [
    "l"
   ]
  },
  {
   "cell_type": "code",
   "execution_count": 41,
   "id": "c9d15560-33ae-440d-bdd6-d77d4ecc3f76",
   "metadata": {},
   "outputs": [
    {
     "data": {
      "text/plain": [
       "'Tr'"
      ]
     },
     "execution_count": 41,
     "metadata": {},
     "output_type": "execute_result"
    }
   ],
   "source": [
    "str(l[4])[:2]"
   ]
  },
  {
   "cell_type": "code",
   "execution_count": 43,
   "id": "b92449c5-be3b-499a-bfc1-c69069f00426",
   "metadata": {},
   "outputs": [
    {
     "data": {
      "text/plain": [
       "[1, 2, 3, (5+8j), True, False, 56, 78, 'pwskills']"
      ]
     },
     "execution_count": 43,
     "metadata": {},
     "output_type": "execute_result"
    }
   ],
   "source": [
    "l"
   ]
  },
  {
   "cell_type": "code",
   "execution_count": 44,
   "id": "9d5c8015-78e7-47e0-81c2-1d5a9def42ff",
   "metadata": {},
   "outputs": [
    {
     "data": {
      "text/plain": [
       "[3, 4, 5, 1, 2, 3, (5+8j), True, False, 56, 78, 'pwskills']"
      ]
     },
     "execution_count": 44,
     "metadata": {},
     "output_type": "execute_result"
    }
   ],
   "source": [
    "l1 = [3,4,5]\n",
    "l1 + l"
   ]
  },
  {
   "cell_type": "code",
   "execution_count": 45,
   "id": "d31ec090-b0c0-4d86-af3c-b032ce7385a5",
   "metadata": {},
   "outputs": [
    {
     "data": {
      "text/plain": [
       "[3, 4, 5, 3, 4, 5, 3, 4, 5]"
      ]
     },
     "execution_count": 45,
     "metadata": {},
     "output_type": "execute_result"
    }
   ],
   "source": [
    "l1 * 3"
   ]
  },
  {
   "cell_type": "code",
   "execution_count": 47,
   "id": "43834d44-c2c5-47e2-b57a-97b31aebe0b1",
   "metadata": {},
   "outputs": [
    {
     "data": {
      "text/plain": [
       "9"
      ]
     },
     "execution_count": 47,
     "metadata": {},
     "output_type": "execute_result"
    }
   ],
   "source": [
    "len(l)"
   ]
  },
  {
   "cell_type": "code",
   "execution_count": 48,
   "id": "10535ba2-adbd-4621-8815-f5c244870dab",
   "metadata": {},
   "outputs": [
    {
     "data": {
      "text/plain": [
       "[1, 2, 3, (5+8j), True, False, 56, 78, 'pwskills']"
      ]
     },
     "execution_count": 48,
     "metadata": {},
     "output_type": "execute_result"
    }
   ],
   "source": [
    "l"
   ]
  },
  {
   "cell_type": "code",
   "execution_count": 50,
   "id": "2b1d8990-6df8-4227-8384-6ca7b1dd5434",
   "metadata": {},
   "outputs": [
    {
     "ename": "ValueError",
     "evalue": "0 is not in list",
     "output_type": "error",
     "traceback": [
      "\u001b[0;31m---------------------------------------------------------------------------\u001b[0m",
      "\u001b[0;31mValueError\u001b[0m                                Traceback (most recent call last)",
      "Cell \u001b[0;32mIn[50], line 1\u001b[0m\n\u001b[0;32m----> 1\u001b[0m \u001b[43ml\u001b[49m\u001b[38;5;241;43m.\u001b[39;49m\u001b[43mindex\u001b[49m\u001b[43m(\u001b[49m\u001b[38;5;241;43m0\u001b[39;49m\u001b[43m,\u001b[49m\u001b[38;5;241;43m34\u001b[39;49m\u001b[43m)\u001b[49m\n\u001b[1;32m      2\u001b[0m l\n",
      "\u001b[0;31mValueError\u001b[0m: 0 is not in list"
     ]
    }
   ],
   "source": []
  },
  {
   "cell_type": "code",
   "execution_count": 51,
   "id": "89120fde-f0e8-485c-b593-07892f2bc2ae",
   "metadata": {},
   "outputs": [
    {
     "data": {
      "text/plain": [
       "[1, 2, 3, (5+8j), True, False, 56, 78, 'pwskills']"
      ]
     },
     "execution_count": 51,
     "metadata": {},
     "output_type": "execute_result"
    }
   ],
   "source": [
    "l"
   ]
  },
  {
   "cell_type": "code",
   "execution_count": 52,
   "id": "0acd3e7f-1316-4060-8314-222abd83cc83",
   "metadata": {},
   "outputs": [
    {
     "data": {
      "text/plain": [
       "[3, 4, 5]"
      ]
     },
     "execution_count": 52,
     "metadata": {},
     "output_type": "execute_result"
    }
   ],
   "source": [
    "l1"
   ]
  },
  {
   "cell_type": "code",
   "execution_count": 54,
   "id": "8da5daf4-8477-4097-89d0-e4e9d84839db",
   "metadata": {},
   "outputs": [
    {
     "data": {
      "text/plain": [
       "[1, 2, 3, (5+8j), True, False, 56, 78, 'pwskills', [3, 4, 5], [3, 4, 5]]"
      ]
     },
     "execution_count": 54,
     "metadata": {},
     "output_type": "execute_result"
    }
   ],
   "source": [
    "l.append(l1)\n",
    "l"
   ]
  },
  {
   "cell_type": "code",
   "execution_count": 55,
   "id": "ded8e07e-c861-48ff-b754-eeb1344d1b89",
   "metadata": {},
   "outputs": [
    {
     "data": {
      "text/plain": [
       "[3, 4, 5]"
      ]
     },
     "execution_count": 55,
     "metadata": {},
     "output_type": "execute_result"
    }
   ],
   "source": [
    "l[10]"
   ]
  },
  {
   "cell_type": "code",
   "execution_count": 67,
   "id": "6e86a9d0-1b3c-4d75-8ba5-03177d4fe5a6",
   "metadata": {},
   "outputs": [
    {
     "data": {
      "text/plain": [
       "[1,\n",
       " 2,\n",
       " 3,\n",
       " (5+8j),\n",
       " True,\n",
       " False,\n",
       " 56,\n",
       " 78,\n",
       " 'pwskills',\n",
       " [3, 4, 5, [...]],\n",
       " [3, 4, 5, [...]],\n",
       " None]"
      ]
     },
     "execution_count": 67,
     "metadata": {},
     "output_type": "execute_result"
    }
   ],
   "source": [
    "l"
   ]
  },
  {
   "cell_type": "code",
   "execution_count": null,
   "id": "34a695ee-35b6-45f4-8221-c50f80a39d8a",
   "metadata": {},
   "outputs": [],
   "source": []
  },
  {
   "cell_type": "code",
   "execution_count": null,
   "id": "31183141-7ab1-4dc7-9fcd-d33b732ad9bc",
   "metadata": {},
   "outputs": [],
   "source": []
  },
  {
   "cell_type": "code",
   "execution_count": 68,
   "id": "fe954c56-1df5-4180-bfff-8fb0593e43a8",
   "metadata": {},
   "outputs": [
    {
     "data": {
      "text/plain": [
       "[1,\n",
       " 2,\n",
       " 3,\n",
       " (5+8j),\n",
       " True,\n",
       " False,\n",
       " 56,\n",
       " 78,\n",
       " 'pwskills',\n",
       " [3, 4, 5, [...]],\n",
       " [3, 4, 5, [...]],\n",
       " None]"
      ]
     },
     "execution_count": 68,
     "metadata": {},
     "output_type": "execute_result"
    }
   ],
   "source": [
    "l"
   ]
  },
  {
   "cell_type": "code",
   "execution_count": 71,
   "id": "fb4d808f-9ae5-44ea-969d-318b9a23f63a",
   "metadata": {},
   "outputs": [
    {
     "data": {
      "text/plain": [
       "[34, 45]"
      ]
     },
     "execution_count": 71,
     "metadata": {},
     "output_type": "execute_result"
    }
   ],
   "source": [
    "l = [2,3,4,\"pwskills\",45.56,[34,45,56]]\n",
    "l[5][:2]"
   ]
  },
  {
   "cell_type": "code",
   "execution_count": 72,
   "id": "ab47cf3e-d90b-44a3-aadb-4f52c2ca513e",
   "metadata": {},
   "outputs": [
    {
     "data": {
      "text/plain": [
       "[2, 3, 4, 'pwskills', 45.56, [34, 45, 56]]"
      ]
     },
     "execution_count": 72,
     "metadata": {},
     "output_type": "execute_result"
    }
   ],
   "source": [
    "l"
   ]
  },
  {
   "cell_type": "code",
   "execution_count": 73,
   "id": "e3a0685c-ae48-4095-82f4-15e7d725913f",
   "metadata": {},
   "outputs": [
    {
     "data": {
      "text/plain": [
       "[2, 3, 4, 'pwskills', 45.56, [34, 45, 56], 7, 8, 9]"
      ]
     },
     "execution_count": 73,
     "metadata": {},
     "output_type": "execute_result"
    }
   ],
   "source": [
    "l.extend([7,8,9])\n",
    "l"
   ]
  },
  {
   "cell_type": "code",
   "execution_count": 79,
   "id": "2779e0c9-1d19-4165-825e-5fea97fb98b6",
   "metadata": {},
   "outputs": [],
   "source": [
    "l.extend([11])"
   ]
  },
  {
   "cell_type": "code",
   "execution_count": 80,
   "id": "52930406-2ee5-4b67-ac96-606086ee19d9",
   "metadata": {},
   "outputs": [
    {
     "data": {
      "text/plain": [
       "[2, 3, 4, 'pwskills', 45.56, [34, 45, 56], 7, 8, 9, 7, 8, 11, 11]"
      ]
     },
     "execution_count": 80,
     "metadata": {},
     "output_type": "execute_result"
    }
   ],
   "source": [
    "l"
   ]
  },
  {
   "cell_type": "code",
   "execution_count": null,
   "id": "ce741eb2-d448-4d75-bf6a-d84c0119d30e",
   "metadata": {},
   "outputs": [],
   "source": []
  },
  {
   "cell_type": "code",
   "execution_count": 81,
   "id": "fda3d027-c1ac-4f23-802a-d839cab56af2",
   "metadata": {},
   "outputs": [
    {
     "data": {
      "text/plain": [
       "[2, 3, 4, 'pwskills', 45.56, [34, 45, 56], 7, 8, 9, 7, 8, 11, 11]"
      ]
     },
     "execution_count": 81,
     "metadata": {},
     "output_type": "execute_result"
    }
   ],
   "source": [
    "l"
   ]
  },
  {
   "cell_type": "code",
   "execution_count": 82,
   "id": "a0c5f435-0320-4cd1-abb1-48617a34fbc4",
   "metadata": {},
   "outputs": [
    {
     "data": {
      "text/plain": [
       "[2, 3, 4, 'pwskills', 45.56, [34, 45, 56], 7, 8, 9, 7, 8, 11, 11]"
      ]
     },
     "execution_count": 82,
     "metadata": {},
     "output_type": "execute_result"
    }
   ],
   "source": [
    "l"
   ]
  },
  {
   "cell_type": "code",
   "execution_count": 83,
   "id": "a5de729b-9ba9-4c65-b87a-bd329cce8c39",
   "metadata": {},
   "outputs": [
    {
     "data": {
      "text/plain": [
       "[3, 4, 5, [...]]"
      ]
     },
     "execution_count": 83,
     "metadata": {},
     "output_type": "execute_result"
    }
   ],
   "source": [
    "l1"
   ]
  },
  {
   "cell_type": "code",
   "execution_count": 84,
   "id": "a78314b4-ca1d-492d-9554-f6913addc376",
   "metadata": {},
   "outputs": [
    {
     "data": {
      "text/plain": [
       "[45, 56, 44]"
      ]
     },
     "execution_count": 84,
     "metadata": {},
     "output_type": "execute_result"
    }
   ],
   "source": [
    "l = [2,34,45,56,67.90,\"pwskills\",[3,4,5]]\n",
    "l1 = [45,56,44]\n",
    "l\n",
    "l1"
   ]
  },
  {
   "cell_type": "code",
   "execution_count": 85,
   "id": "9edfcbee-731e-433a-99da-7335545e1dc7",
   "metadata": {},
   "outputs": [
    {
     "data": {
      "text/plain": [
       "[2, 34, 45, 56, 67.9, 'pwskills', [3, 4, 5]]"
      ]
     },
     "execution_count": 85,
     "metadata": {},
     "output_type": "execute_result"
    }
   ],
   "source": [
    "l"
   ]
  },
  {
   "cell_type": "code",
   "execution_count": 86,
   "id": "8d1e78b8-52d7-479a-ba54-3e6853bceffc",
   "metadata": {},
   "outputs": [
    {
     "data": {
      "text/plain": [
       "[45, 56, 44]"
      ]
     },
     "execution_count": 86,
     "metadata": {},
     "output_type": "execute_result"
    }
   ],
   "source": [
    "l1"
   ]
  },
  {
   "cell_type": "code",
   "execution_count": 87,
   "id": "11607c93-10a8-4d09-a42c-843738860fb9",
   "metadata": {},
   "outputs": [],
   "source": [
    "l1.insert(0,455)"
   ]
  },
  {
   "cell_type": "code",
   "execution_count": 88,
   "id": "c2378db1-2618-477e-81a8-bbcb1017d3bb",
   "metadata": {},
   "outputs": [
    {
     "data": {
      "text/plain": [
       "[455, 45, 56, 44]"
      ]
     },
     "execution_count": 88,
     "metadata": {},
     "output_type": "execute_result"
    }
   ],
   "source": [
    "l1"
   ]
  },
  {
   "cell_type": "code",
   "execution_count": 90,
   "id": "b435d796-6eba-4c63-9620-5fdfce5821ec",
   "metadata": {},
   "outputs": [],
   "source": [
    "l1.insert(3,[3,4,5,[88,99]])"
   ]
  },
  {
   "cell_type": "code",
   "execution_count": 91,
   "id": "1ecc00c7-ba10-4612-826c-ca1212da9c35",
   "metadata": {},
   "outputs": [
    {
     "data": {
      "text/plain": [
       "[455, 45, 56, [3, 4, 5, [88, 99]], 44]"
      ]
     },
     "execution_count": 91,
     "metadata": {},
     "output_type": "execute_result"
    }
   ],
   "source": [
    "l1"
   ]
  },
  {
   "cell_type": "code",
   "execution_count": 92,
   "id": "6815fd85-685f-4c01-85e6-d5d4570c7926",
   "metadata": {},
   "outputs": [
    {
     "data": {
      "text/plain": [
       "[3, 4, 5, [88, 99]]"
      ]
     },
     "execution_count": 92,
     "metadata": {},
     "output_type": "execute_result"
    }
   ],
   "source": [
    "l1[3]"
   ]
  },
  {
   "cell_type": "code",
   "execution_count": 100,
   "id": "184b2dce-f0a8-48b6-ae49-9d799a14389f",
   "metadata": {},
   "outputs": [
    {
     "data": {
      "text/plain": [
       "[3, 4, 5, [88, 99]]"
      ]
     },
     "execution_count": 100,
     "metadata": {},
     "output_type": "execute_result"
    }
   ],
   "source": [
    "l1[3][::]"
   ]
  },
  {
   "cell_type": "code",
   "execution_count": 101,
   "id": "56b69983-26a4-4850-8634-6788c241bc21",
   "metadata": {},
   "outputs": [
    {
     "data": {
      "text/plain": [
       "[455, 45, 56, [3, 4, 5, [88, 99]], 44]"
      ]
     },
     "execution_count": 101,
     "metadata": {},
     "output_type": "execute_result"
    }
   ],
   "source": [
    "l1"
   ]
  },
  {
   "cell_type": "code",
   "execution_count": 103,
   "id": "4d2d1659-dba9-45a2-bb88-abffdbb3b08f",
   "metadata": {},
   "outputs": [
    {
     "data": {
      "text/plain": [
       "[455, 45, 56, [3, 4, 5, [88, 99]], 90, 44]"
      ]
     },
     "execution_count": 103,
     "metadata": {},
     "output_type": "execute_result"
    }
   ],
   "source": [
    "l1.insert(-1,90)\n",
    "l1"
   ]
  },
  {
   "cell_type": "code",
   "execution_count": 104,
   "id": "bddb86f4-2065-4a3b-9a1d-befde8d78898",
   "metadata": {},
   "outputs": [
    {
     "data": {
      "text/plain": [
       "[455, 45, [3, 4, 5, [88, 99]], 90, 44]"
      ]
     },
     "execution_count": 104,
     "metadata": {},
     "output_type": "execute_result"
    }
   ],
   "source": [
    "l1.remove(56) #remove will take the number which is available in list to remove\n",
    "l1"
   ]
  },
  {
   "cell_type": "code",
   "execution_count": 106,
   "id": "50f8a207-e448-4458-9ae2-4d5ed562a000",
   "metadata": {},
   "outputs": [
    {
     "data": {
      "text/plain": [
       "45"
      ]
     },
     "execution_count": 106,
     "metadata": {},
     "output_type": "execute_result"
    }
   ],
   "source": [
    "l1.pop(1) #pop will take index number to pop or remove the value"
   ]
  },
  {
   "cell_type": "code",
   "execution_count": 107,
   "id": "1eb84084-c0f6-4bd9-a7f9-79b25b6f2437",
   "metadata": {},
   "outputs": [
    {
     "data": {
      "text/plain": [
       "[455, [3, 4, 5, [88, 99]], 90, 44]"
      ]
     },
     "execution_count": 107,
     "metadata": {},
     "output_type": "execute_result"
    }
   ],
   "source": [
    "l1"
   ]
  },
  {
   "cell_type": "code",
   "execution_count": 113,
   "id": "02b1b553-e226-4490-bc91-42f77a50cca9",
   "metadata": {},
   "outputs": [],
   "source": [
    "l1[1].remove(4)"
   ]
  },
  {
   "cell_type": "code",
   "execution_count": 114,
   "id": "f94a4015-b8b8-4121-9ed2-f68bebb06698",
   "metadata": {},
   "outputs": [
    {
     "data": {
      "text/plain": [
       "[455, [3, 5, [88, 99]], 90, 44]"
      ]
     },
     "execution_count": 114,
     "metadata": {},
     "output_type": "execute_result"
    }
   ],
   "source": [
    "l1"
   ]
  },
  {
   "cell_type": "code",
   "execution_count": 118,
   "id": "623d368e-a80d-4ca4-8366-5c432056b4b4",
   "metadata": {},
   "outputs": [],
   "source": [
    "l1[1].remove(5)"
   ]
  },
  {
   "cell_type": "code",
   "execution_count": 119,
   "id": "ba31169c-200e-48eb-a2ea-a1c23a79db96",
   "metadata": {},
   "outputs": [
    {
     "data": {
      "text/plain": [
       "[455, [3, [88, 99]], 90, 44]"
      ]
     },
     "execution_count": 119,
     "metadata": {},
     "output_type": "execute_result"
    }
   ],
   "source": [
    "l1"
   ]
  },
  {
   "cell_type": "code",
   "execution_count": 122,
   "id": "9fa61e02-a4a0-42ae-afd7-5618ae3dfe2f",
   "metadata": {},
   "outputs": [
    {
     "data": {
      "text/plain": [
       "[2, 3, 4, 'fenil', [7, 8, 9]]"
      ]
     },
     "execution_count": 122,
     "metadata": {},
     "output_type": "execute_result"
    }
   ],
   "source": [
    "l1 = [2,3,4,\"fenil\",[7,8,9]]\n",
    "l1"
   ]
  },
  {
   "cell_type": "code",
   "execution_count": null,
   "id": "92347091-e9a0-4754-8813-6fc02f6aad2d",
   "metadata": {},
   "outputs": [],
   "source": []
  },
  {
   "cell_type": "code",
   "execution_count": 131,
   "id": "32e7191c-e1fe-4a33-97df-f702087d15c4",
   "metadata": {},
   "outputs": [
    {
     "data": {
      "text/plain": [
       "[2, 3, 4, 'fenil', [7, 8, 9]]"
      ]
     },
     "execution_count": 131,
     "metadata": {},
     "output_type": "execute_result"
    }
   ],
   "source": [
    "l1"
   ]
  },
  {
   "cell_type": "code",
   "execution_count": 135,
   "id": "b3289afb-736c-4127-bbc1-5c1d1d06c31c",
   "metadata": {},
   "outputs": [
    {
     "data": {
      "text/plain": [
       "[2, 3, 4, 'fenil', [7, 8, 9]]"
      ]
     },
     "execution_count": 135,
     "metadata": {},
     "output_type": "execute_result"
    }
   ],
   "source": [
    "l1"
   ]
  },
  {
   "cell_type": "code",
   "execution_count": 136,
   "id": "0f54b60f-4498-4ff4-b92b-4b762a4eea1d",
   "metadata": {},
   "outputs": [],
   "source": [
    "l1.reverse() #reverse function will reverse the list permenentely"
   ]
  },
  {
   "cell_type": "code",
   "execution_count": 137,
   "id": "676a7228-772a-48e8-a17b-4ac5fa779f6f",
   "metadata": {},
   "outputs": [
    {
     "data": {
      "text/plain": [
       "[[7, 8, 9], 'fenil', 4, 3, 2]"
      ]
     },
     "execution_count": 137,
     "metadata": {},
     "output_type": "execute_result"
    }
   ],
   "source": [
    "l1"
   ]
  },
  {
   "cell_type": "code",
   "execution_count": 138,
   "id": "e7afdc24-c9a9-44c5-aa82-2f68b07c7a70",
   "metadata": {},
   "outputs": [
    {
     "data": {
      "text/plain": [
       "[[7, 8, 9], 'fenil', 4, 3, 2]"
      ]
     },
     "execution_count": 138,
     "metadata": {},
     "output_type": "execute_result"
    }
   ],
   "source": [
    "l1[::-1] #it is temporarey reverse\n",
    "l1"
   ]
  },
  {
   "cell_type": "code",
   "execution_count": 139,
   "id": "18a0407a-fbde-45b5-a9a3-6674ecbf4696",
   "metadata": {},
   "outputs": [
    {
     "data": {
      "text/plain": [
       "[2, 3, 4, 'fenil', [7, 8, 9]]"
      ]
     },
     "execution_count": 139,
     "metadata": {},
     "output_type": "execute_result"
    }
   ],
   "source": []
  },
  {
   "cell_type": "code",
   "execution_count": 140,
   "id": "b016fce9-602c-40e2-8886-9e4a94c78495",
   "metadata": {},
   "outputs": [
    {
     "data": {
      "text/plain": [
       "[[7, 8, 9], 'fenil', 4, 3, 2]"
      ]
     },
     "execution_count": 140,
     "metadata": {},
     "output_type": "execute_result"
    }
   ],
   "source": [
    "l1 = l1[::-1] #Now it is permenentely reverse\n",
    "l1"
   ]
  },
  {
   "cell_type": "code",
   "execution_count": 141,
   "id": "68be65a4-660e-483d-ba9c-5e6010fe2f08",
   "metadata": {},
   "outputs": [
    {
     "data": {
      "text/plain": [
       "[2, 4, 5, 3, 2, 11, 566, 23]"
      ]
     },
     "execution_count": 141,
     "metadata": {},
     "output_type": "execute_result"
    }
   ],
   "source": [
    "l1 = [2,4,5,3,2,11,566,23]\n",
    "l1"
   ]
  },
  {
   "cell_type": "code",
   "execution_count": 142,
   "id": "b1c48250-5f04-4d33-9b9a-cb3c4ac2ad5b",
   "metadata": {},
   "outputs": [
    {
     "data": {
      "text/plain": [
       "[2, 2, 3, 4, 5, 11, 23, 566]"
      ]
     },
     "execution_count": 142,
     "metadata": {},
     "output_type": "execute_result"
    }
   ],
   "source": [
    "l1.sort()\n",
    "l1"
   ]
  },
  {
   "cell_type": "code",
   "execution_count": 146,
   "id": "b7a08574-e314-4bc1-9f64-fe5018c7032f",
   "metadata": {},
   "outputs": [
    {
     "data": {
      "text/plain": [
       "['dilipkumar', 'fenil', 'hello', 'modi']"
      ]
     },
     "execution_count": 146,
     "metadata": {},
     "output_type": "execute_result"
    }
   ],
   "source": [
    "l3 = [\"fenil\", \"modi\", \"dilipkumar\", \"hello\"]\n",
    "l3.sort() #for alphabetical ascending order \n",
    "l3"
   ]
  },
  {
   "cell_type": "code",
   "execution_count": 147,
   "id": "79750800-aef5-4b08-ae4b-bb1669c08f47",
   "metadata": {},
   "outputs": [
    {
     "data": {
      "text/plain": [
       "['modi', 'hello', 'fenil', 'dilipkumar']"
      ]
     },
     "execution_count": 147,
     "metadata": {},
     "output_type": "execute_result"
    }
   ],
   "source": [
    "l3.sort(reverse=True) #for alphabetical decending order\n",
    "l3"
   ]
  },
  {
   "cell_type": "code",
   "execution_count": 155,
   "id": "9099463f-edb1-4209-9be2-15ff46285e43",
   "metadata": {},
   "outputs": [
    {
     "data": {
      "text/plain": [
       "0"
      ]
     },
     "execution_count": 155,
     "metadata": {},
     "output_type": "execute_result"
    }
   ],
   "source": [
    "l5 = [\"fenil\", \"dilipkumar\", \"hello\",\"modi\"]\n",
    "l5.index(\"fenil\") #finds an index number"
   ]
  },
  {
   "cell_type": "code",
   "execution_count": 159,
   "id": "787f83c7-5eb2-4102-ba25-bd1475b37042",
   "metadata": {},
   "outputs": [
    {
     "data": {
      "text/plain": [
       "1"
      ]
     },
     "execution_count": 159,
     "metadata": {},
     "output_type": "execute_result"
    }
   ],
   "source": [
    "\n",
    "l5.count(\"modi\")"
   ]
  },
  {
   "cell_type": "code",
   "execution_count": 160,
   "id": "329a72b5-08d7-4e0d-b5f1-2b437f55e73c",
   "metadata": {},
   "outputs": [
    {
     "data": {
      "text/plain": [
       "3"
      ]
     },
     "execution_count": 160,
     "metadata": {},
     "output_type": "execute_result"
    }
   ],
   "source": [
    "l5.index(\"modi\")"
   ]
  },
  {
   "cell_type": "code",
   "execution_count": 161,
   "id": "9a8165a4-66ce-447d-adc7-4e33bb188427",
   "metadata": {},
   "outputs": [
    {
     "data": {
      "text/plain": [
       "2"
      ]
     },
     "execution_count": 161,
     "metadata": {},
     "output_type": "execute_result"
    }
   ],
   "source": [
    "l6 = [\"modi\",\"fenil\",\"modi\",\"abcdcdc\"]\n",
    "# l6.count(\"modi\")"
   ]
  },
  {
   "cell_type": "code",
   "execution_count": 167,
   "id": "91264edf-3362-4ed4-904c-6c1356ffd377",
   "metadata": {},
   "outputs": [
    {
     "data": {
      "text/plain": [
       "0"
      ]
     },
     "execution_count": 167,
     "metadata": {},
     "output_type": "execute_result"
    }
   ],
   "source": [
    "l6.count(\"abcdcdc\")"
   ]
  },
  {
   "cell_type": "code",
   "execution_count": 168,
   "id": "1c84b9a7-922b-41d0-a9c5-98967e63767c",
   "metadata": {},
   "outputs": [],
   "source": [
    "l4 = [4,5,6,67,88]\n",
    "l4[0] = 900\n"
   ]
  },
  {
   "cell_type": "code",
   "execution_count": 169,
   "id": "6ebc0c3e-efb9-43a5-9835-ddd8b0279f6b",
   "metadata": {},
   "outputs": [
    {
     "data": {
      "text/plain": [
       "[900, 5, 6, 67, 88]"
      ]
     },
     "execution_count": 169,
     "metadata": {},
     "output_type": "execute_result"
    }
   ],
   "source": [
    "l4"
   ]
  },
  {
   "cell_type": "code",
   "execution_count": 175,
   "id": "2a28dad8-f25a-4136-b0d6-587295818742",
   "metadata": {},
   "outputs": [
    {
     "data": {
      "text/plain": [
       "'F'"
      ]
     },
     "execution_count": 175,
     "metadata": {},
     "output_type": "execute_result"
    }
   ],
   "source": [
    "l10 = \"Fenil\"\n",
    "l10[0]"
   ]
  },
  {
   "cell_type": "code",
   "execution_count": 180,
   "id": "4cf1ad6c-3df2-4afa-a771-8653621119ee",
   "metadata": {},
   "outputs": [],
   "source": [
    "\n"
   ]
  },
  {
   "cell_type": "code",
   "execution_count": null,
   "id": "386199f9-3a7a-4c2b-ab36-21e6b50db149",
   "metadata": {},
   "outputs": [],
   "source": []
  },
  {
   "cell_type": "code",
   "execution_count": 181,
   "id": "bc7ee097-ad48-4bd7-8cfd-7a675cd0db36",
   "metadata": {},
   "outputs": [],
   "source": [
    "l10.replace(\"F\",\"m\") "
   ]
  },
  {
   "cell_type": "code",
   "execution_count": 185,
   "id": "4cf9257f-1a75-474e-ba08-b7aa48dbefd4",
   "metadata": {},
   "outputs": [
    {
     "data": {
      "text/plain": [
       "'menil'"
      ]
     },
     "execution_count": 185,
     "metadata": {},
     "output_type": "execute_result"
    }
   ],
   "source": [
    "l10 = l10.replace(\"F\",\"m\")\n",
    "l10"
   ]
  },
  {
   "cell_type": "code",
   "execution_count": 186,
   "id": "268be78f-d179-4510-966d-11c69ec28e4a",
   "metadata": {},
   "outputs": [
    {
     "data": {
      "text/plain": [
       "'menil'"
      ]
     },
     "execution_count": 186,
     "metadata": {},
     "output_type": "execute_result"
    }
   ],
   "source": [
    "l10"
   ]
  },
  {
   "cell_type": "code",
   "execution_count": null,
   "id": "a28b2546-0cca-4543-a73d-7c299ea80345",
   "metadata": {},
   "outputs": [],
   "source": []
  }
 ],
 "metadata": {
  "kernelspec": {
   "display_name": "Python 3 (ipykernel)",
   "language": "python",
   "name": "python3"
  },
  "language_info": {
   "codemirror_mode": {
    "name": "ipython",
    "version": 3
   },
   "file_extension": ".py",
   "mimetype": "text/x-python",
   "name": "python",
   "nbconvert_exporter": "python",
   "pygments_lexer": "ipython3",
   "version": "3.10.8"
  }
 },
 "nbformat": 4,
 "nbformat_minor": 5
}
