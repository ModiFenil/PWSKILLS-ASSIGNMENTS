{
 "cells": [
  {
   "cell_type": "code",
   "execution_count": null,
   "id": "336599f2-9bce-498f-9c0c-cd7e19667155",
   "metadata": {},
   "outputs": [],
   "source": [
    "Q1 Explain with an example each when to use a for loop and a while loop."
   ]
  },
  {
   "cell_type": "code",
   "execution_count": null,
   "id": "cd8e6f4b-125f-4ae9-b5fb-f95ce82d5145",
   "metadata": {},
   "outputs": [],
   "source": [
    "Ans: \n",
    "For loop: It is a single line statement, but all the conditions are implemented.The for loop is used to repeat a section of code known number of times.The advantage to a for loop is we know exactly how many times the loop will execute before the loop starts\n",
    "Example: for i in range(10):\n",
    "            print(i)\n",
    "        output:1\n",
    "               2\n",
    "               3\n",
    "               4\n",
    "               5\n",
    "               6\n",
    "               7\n",
    "               8\n",
    "               9\n",
    "While loop: The while loop is used to repeat a section of code an unknown number of times until a specific condition is met.\"while loops\" execute blocks of code over and over again.\n",
    "\n",
    "Example:  a = 1\n",
    "          while a<10:\n",
    "            print(i)\n",
    "            a = a + 1\n",
    "        output: 1\n",
    "                2\n",
    "                3\n",
    "                4\n",
    "                5\n",
    "                6\n",
    "                7\n",
    "                8\n",
    "                9"
   ]
  },
  {
   "cell_type": "code",
   "execution_count": null,
   "id": "67c9b4c8-31ee-457c-8372-94cfb22f5ed4",
   "metadata": {},
   "outputs": [],
   "source": [
    "Q2 Write a python program to print the sum and product of the first 10 natural numbers using for and while loop."
   ]
  },
  {
   "cell_type": "code",
   "execution_count": 1,
   "id": "4a5ef7d8-a08d-4098-b770-579d0c41fb0d",
   "metadata": {},
   "outputs": [
    {
     "name": "stdout",
     "output_type": "stream",
     "text": [
      "Sum of 10 natural number is:  55\n",
      "Product of 10 natural number is: 3628800\n"
     ]
    }
   ],
   "source": [
    "a = 0\n",
    "sum1 = 0\n",
    "while a<=10:\n",
    "    sum1 = sum1 + a\n",
    "    a = a + 1\n",
    "print(\"Sum of 10 natural number is: \",sum1)\n",
    "\n",
    "b = 1\n",
    "product = 1\n",
    "while b <= 10:\n",
    "    product = product * b\n",
    "    b = b + 1\n",
    "print(\"Product of 10 natural number is:\",product)"
   ]
  },
  {
   "cell_type": "code",
   "execution_count": null,
   "id": "b7a71671-f8fe-49ab-9880-825a3507c4e2",
   "metadata": {},
   "outputs": [],
   "source": [
    "Q3. Create a python program to compute the electricity bill for a household.\n",
    "\n",
    "The per-unit charges in rupees are as follows:\n",
    "For the first 100 units, the user will be charged Rs. 4.5 per unit, for the next 100 units, the user will be charged Rs. 6 per unit, and for the next 100 units, the user will be charged Rs. 10 per unit, After 300 units and above the user will be charged Rs. 20 per unit.\n",
    "You are required to take the units of electricity consumed in a month from the user as input.\n",
    "Your program must pass this test case: when the unit of electricity consumed by the user in a month is\n",
    "310, the total electricity bill should be 2250.\n"
   ]
  },
  {
   "cell_type": "code",
   "execution_count": 9,
   "id": "5320594a-7779-409d-ba51-22ee9fdc99f9",
   "metadata": {},
   "outputs": [
    {
     "name": "stdin",
     "output_type": "stream",
     "text": [
      "Enter unit:  310\n"
     ]
    },
    {
     "name": "stdout",
     "output_type": "stream",
     "text": [
      "2250.0\n"
     ]
    }
   ],
   "source": [
    "units = int(input(\"Enter unit: \"))\n",
    "if (units <= 100):\n",
    "\tprint(units * 4.5)\n",
    "\t\n",
    "elif (units <= 200):\n",
    "\tprint((100 * 4.5) + (units - 100) * 6)\n",
    "\t\n",
    "elif (units <= 300):\n",
    "\tprint((100 * 4.5) +(100 * 6) +(units - 200) * 10)\n",
    "\t\n",
    "elif (units > 300):\n",
    "\tprint((100 * 4.5) +(100 * 6) +(100 * 10) +(units - 300) * 20)\n",
    "else:\n",
    "    print(\"Enter again: \")"
   ]
  },
  {
   "cell_type": "code",
   "execution_count": null,
   "id": "c060e5f7-bfc4-4bc5-910f-167903fe36a0",
   "metadata": {},
   "outputs": [],
   "source": [
    "Q4. Create a list of numbers from 1 to 100. Use for loop and while loop to calculate the cube of each\n",
    "number and if the cube of that number is divisible by 4 or 5 then append that number in a list and print\n",
    "that list."
   ]
  },
  {
   "cell_type": "code",
   "execution_count": 17,
   "id": "3c5c40f7-65a8-4bc4-a77e-0b5c1ff5e50f",
   "metadata": {},
   "outputs": [
    {
     "name": "stdout",
     "output_type": "stream",
     "text": [
      "Using for loop These are the number which is divided by 4 or 5 using for loop:  [8, 64, 125, 216, 512, 1000, 1728, 2744, 3375, 4096, 5832, 8000, 10648, 13824, 15625, 17576, 21952, 27000, 32768, 39304, 42875, 46656, 54872, 64000, 74088, 85184, 91125, 97336, 110592, 125000, 140608, 157464, 166375, 175616, 195112, 216000, 238328, 262144, 274625, 287496, 314432, 343000, 373248, 405224, 421875, 438976, 474552, 512000, 551368, 592704, 614125, 636056, 681472, 729000, 778688, 830584, 857375, 884736, 941192, 1000000]\n",
      "Using while loop These are the number which is divided by 4 or 5 using while loop:  [4, 16, 25, 36, 64, 100, 144, 196, 225, 256, 324, 400, 484, 576, 625, 676, 784, 900, 1024, 1156, 1225, 1296, 1444, 1600, 1764, 1936, 2025, 2116, 2304, 2500, 2704, 2916, 3025, 3136, 3364, 3600, 3844, 4096, 4225, 4356, 4624, 4900, 5184, 5476, 5625, 5776, 6084, 6400, 6724, 7056, 7225, 7396, 7744, 8100, 8464, 8836, 9025, 9216, 9604, 10000]\n"
     ]
    }
   ],
   "source": [
    "# Using for loop printing cube of 100 numbers:\n",
    "\n",
    "mylist1 = []\n",
    "for i in range(1,101):\n",
    "    num = i ** 3\n",
    "    if num %4 == 0 or num % 5 == 0:\n",
    "        mylist1.append(num)\n",
    "print(\"Using for loop These are the number which is divided by 4 or 5 using for loop: \",mylist1)\n",
    "\n",
    "list2 = []\n",
    "a = 1\n",
    "while a<=100:\n",
    "    num1 = a**2\n",
    "    if num1 % 4 == 0 or num1 % 5 == 0:\n",
    "        list2.append(num1)\n",
    "    a = a + 1\n",
    "print(\"Using while loop These are the number which is divided by 4 or 5 using while loop: \",list2)"
   ]
  },
  {
   "cell_type": "code",
   "execution_count": null,
   "id": "30fb3a87-43f5-46cb-91c8-28f6a766c004",
   "metadata": {},
   "outputs": [],
   "source": [
    "Q5. Write a program to filter count vowels in the below-given string.\n",
    "string = \"I want to become a data scientist\""
   ]
  },
  {
   "cell_type": "code",
   "execution_count": 1,
   "id": "1a076194-95fd-41b1-bca7-c09cc8d754fe",
   "metadata": {},
   "outputs": [
    {
     "name": "stdout",
     "output_type": "stream",
     "text": [
      "a is found:  3\n",
      "e is found:  3\n",
      "i is found:  3\n",
      "o is found:  2\n",
      "u is found:  0\n"
     ]
    }
   ],
   "source": [
    "def counting(variable):\n",
    "    letters = ['a','e','i','o','u']\n",
    "    if variable in letters:\n",
    "        return True\n",
    "    else:\n",
    "        return False\n",
    "\n",
    "string = \"i want to become data scientist\"\n",
    "new = filter(counting,string)\n",
    "\n",
    "mylist = []\n",
    "for s in new:\n",
    "   mylist.append(s)\n",
    "# print(mylist)\n",
    "print(\"a is found: \",mylist.count('a'))\n",
    "print(\"e is found: \",mylist.count('e'))\n",
    "print(\"i is found: \",mylist.count('i'))\n",
    "print(\"o is found: \",mylist.count('o'))\n",
    "print(\"u is found: \",mylist.count('u'))\n",
    "\n"
   ]
  },
  {
   "cell_type": "code",
   "execution_count": null,
   "id": "6c8c4428-67cc-4168-86a5-ddb677fe36c1",
   "metadata": {},
   "outputs": [],
   "source": []
  }
 ],
 "metadata": {
  "kernelspec": {
   "display_name": "Python 3 (ipykernel)",
   "language": "python",
   "name": "python3"
  },
  "language_info": {
   "codemirror_mode": {
    "name": "ipython",
    "version": 3
   },
   "file_extension": ".py",
   "mimetype": "text/x-python",
   "name": "python",
   "nbconvert_exporter": "python",
   "pygments_lexer": "ipython3",
   "version": "3.10.8"
  }
 },
 "nbformat": 4,
 "nbformat_minor": 5
}
