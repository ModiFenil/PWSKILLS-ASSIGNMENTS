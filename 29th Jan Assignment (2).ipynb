{
 "cells": [
  {
   "cell_type": "code",
   "execution_count": null,
   "id": "381ecb52-0d4f-4ee9-b8d0-f9afab65526f",
   "metadata": {},
   "outputs": [],
   "source": [
    "Q1 Who developed python programming language?"
   ]
  },
  {
   "cell_type": "code",
   "execution_count": null,
   "id": "3d55f41d-74f5-46ae-9cc4-75846d849c07",
   "metadata": {},
   "outputs": [],
   "source": [
    "Ans: Python was initially designed by Guido van Rossum in 1991 and developed by Python Software    Foundation.Python is a widely-used general-purpose, high-level programming language.  "
   ]
  },
  {
   "cell_type": "code",
   "execution_count": null,
   "id": "a5917f2f-3ed9-4015-b342-9b809509980b",
   "metadata": {},
   "outputs": [],
   "source": [
    "Q2 Which type of programming does python support?"
   ]
  },
  {
   "cell_type": "code",
   "execution_count": null,
   "id": "e2d4b413-01b8-47f3-b3d2-c03a7a261083",
   "metadata": {},
   "outputs": [],
   "source": [
    "Ans: Python supports Object oriented programming, structured programming, and functional programming."
   ]
  },
  {
   "cell_type": "code",
   "execution_count": null,
   "id": "5efce0dc-e8cb-4755-b4b3-b37bd7666aa9",
   "metadata": {},
   "outputs": [],
   "source": [
    "Q3 Is python case sensitive when dealing with identifiers?"
   ]
  },
  {
   "cell_type": "code",
   "execution_count": null,
   "id": "0bca8bf9-6801-494e-8402-bdb92dfc02d1",
   "metadata": {},
   "outputs": [],
   "source": [
    "Ans: Yes python is case sensitive language when dealing with identifiers. "
   ]
  },
  {
   "cell_type": "code",
   "execution_count": null,
   "id": "74bdca60-e61f-420e-be1c-a9fcc3f96413",
   "metadata": {},
   "outputs": [],
   "source": [
    "Q4 What is the correct extesion of the python file?"
   ]
  },
  {
   "cell_type": "code",
   "execution_count": null,
   "id": "b0d04b1d-0945-43e5-8ca7-59ccb2d56592",
   "metadata": {},
   "outputs": [],
   "source": [
    "Ans: The correct extension of python file is '.py'"
   ]
  },
  {
   "cell_type": "code",
   "execution_count": null,
   "id": "2b8b476a-4e82-4917-b45f-6279d624aefe",
   "metadata": {},
   "outputs": [],
   "source": [
    "Q5 Is python code is compiled or interpreted?"
   ]
  },
  {
   "cell_type": "code",
   "execution_count": null,
   "id": "94c562c4-abaa-4b05-8f89-54ac81ef3813",
   "metadata": {},
   "outputs": [],
   "source": [
    "Ans: Python code is compiled as well and interpreted."
   ]
  },
  {
   "cell_type": "code",
   "execution_count": null,
   "id": "b68c3364-7965-4762-8249-ced8c4d06e43",
   "metadata": {},
   "outputs": [],
   "source": [
    "Q6 Name a few blocks of code used to define in python language? "
   ]
  },
  {
   "cell_type": "code",
   "execution_count": null,
   "id": "2014a96b-c0f1-464b-9b6c-3cd073cec7da",
   "metadata": {},
   "outputs": [],
   "source": [
    "Ans: a module, a function body, and a class definition. Each command typed interactively is a block. A script file is a code block."
   ]
  },
  {
   "cell_type": "code",
   "execution_count": null,
   "id": "178c4d0e-bba6-4bc3-94ee-27748e58b1da",
   "metadata": {},
   "outputs": [],
   "source": [
    "Q7 State a character used to give single line comments in python?"
   ]
  },
  {
   "cell_type": "code",
   "execution_count": null,
   "id": "db9d9b59-b057-41dd-92ec-9b55c2c86cb1",
   "metadata": {},
   "outputs": [],
   "source": [
    "Ans: In python for single line comment we used '#'."
   ]
  },
  {
   "cell_type": "code",
   "execution_count": null,
   "id": "40f0648d-da6f-4dc0-a344-834a1df90e1f",
   "metadata": {},
   "outputs": [],
   "source": [
    "Q8 Mention functions which can help us to find the version of python that we are currently working on?"
   ]
  },
  {
   "cell_type": "code",
   "execution_count": null,
   "id": "3cbda4db-afd5-410d-a24c-e33eefcd1ae5",
   "metadata": {},
   "outputs": [],
   "source": [
    "Ans: In python 'sys.version' using we can find the version which we are currently working on."
   ]
  },
  {
   "cell_type": "code",
   "execution_count": null,
   "id": "3b7e546d-b207-426c-846b-b601cae2af20",
   "metadata": {},
   "outputs": [],
   "source": [
    "Q9 Python supports the creation of anonymous functions at runtime, using a construct called----"
   ]
  },
  {
   "cell_type": "code",
   "execution_count": null,
   "id": "a5114c83-2d1b-449f-b0f4-e0e227d1432a",
   "metadata": {},
   "outputs": [],
   "source": [
    "Ans: Python supports the creation of anonymous functions at runtime, using a construct called lambda."
   ]
  },
  {
   "cell_type": "code",
   "execution_count": null,
   "id": "937a63ca-98d7-415b-8d20-960857865bdf",
   "metadata": {},
   "outputs": [],
   "source": [
    "Q10 what does pip stands for python?"
   ]
  },
  {
   "cell_type": "code",
   "execution_count": null,
   "id": "c57c0cfd-5232-4607-abc7-2a207f4c2a5f",
   "metadata": {},
   "outputs": [],
   "source": [
    "Ans: Pip stands for Preferred installer program."
   ]
  },
  {
   "cell_type": "code",
   "execution_count": null,
   "id": "dc86d63a-d79d-4332-b525-1095a13a18d6",
   "metadata": {},
   "outputs": [],
   "source": [
    "Q11 Mention a few built in functions in python?"
   ]
  },
  {
   "cell_type": "code",
   "execution_count": null,
   "id": "a03c4f5e-5bda-43d2-9984-3adbdc07d4a3",
   "metadata": {},
   "outputs": [],
   "source": [
    "Ans: Built in functions in python are: filter(), float(), hash(), input(), len(), list(), map(), etc.."
   ]
  },
  {
   "cell_type": "code",
   "execution_count": null,
   "id": "14a91033-4d38-4f58-8b38-62b8d97da66e",
   "metadata": {},
   "outputs": [],
   "source": [
    "Q12 What is the maximum possible length of an identifier in python?"
   ]
  },
  {
   "cell_type": "code",
   "execution_count": null,
   "id": "5d37c990-34ef-40c5-a4a0-3cc08b37b21d",
   "metadata": {},
   "outputs": [],
   "source": [
    "Ans: An identifier can have maximum of length is 79 characters."
   ]
  },
  {
   "cell_type": "code",
   "execution_count": null,
   "id": "5affa16b-44e7-41a7-8d6c-4472c836091c",
   "metadata": {},
   "outputs": [],
   "source": [
    "Q13 What are the benifit of using python?"
   ]
  },
  {
   "cell_type": "code",
   "execution_count": null,
   "id": "cac2d123-1b8a-4b6e-926a-b8bb24985c5a",
   "metadata": {},
   "outputs": [],
   "source": [
    "Ans: Easy to read ,learn and write code.\n",
    "     High level language.\n",
    "     Object-Oriented and Procedural  Programming language.\n",
    "     Portable and interactive.\n",
    "     Internet of things opportunity.\n",
    "     Interpreted language, There are some of few benifits using Python language."
   ]
  },
  {
   "cell_type": "code",
   "execution_count": null,
   "id": "3af3847a-161f-4131-9e8b-3fb0265b862b",
   "metadata": {},
   "outputs": [],
   "source": [
    "Q14 How is memory manage in python? "
   ]
  },
  {
   "cell_type": "code",
   "execution_count": null,
   "id": "63575e4c-85f9-4c42-9578-08eed09f193c",
   "metadata": {},
   "outputs": [],
   "source": [
    "Ans: Garbage collection is a process in which the interpreter frees up the memory when not in use to make it available for other objects."
   ]
  },
  {
   "cell_type": "code",
   "execution_count": null,
   "id": "3e1cd587-2001-4009-b613-62954779373f",
   "metadata": {},
   "outputs": [],
   "source": [
    "Q15 How to install python on windows and set path variables?"
   ]
  },
  {
   "cell_type": "code",
   "execution_count": null,
   "id": "6fc5bb00-e20b-4f1b-b7bb-b71e6dca64cb",
   "metadata": {},
   "outputs": [],
   "source": [
    "Ans: Using chrome browser we can search this https://www.python.org/downloads/. after downloading some of permission we accept and install the python and after that some of few steps to set path using below instrucions:\n",
    "\n",
    "     1.Right-clicking This PC and going to Properties.\n",
    "     2.Clicking on the Advanced system settings in the menu on the left.\n",
    "     3.Clicking on the Environment Variables button on the bottom right.\n",
    "     4.In the System variables section, selecting the Path variable and clicking on Edit. The            next screen will show all the directories that are currently a part of the PATH variable.\n",
    "     5.Clicking on New and entering Python’s install directory. "
   ]
  },
  {
   "cell_type": "code",
   "execution_count": null,
   "id": "81855fcc-49cd-485f-95e4-a6d52d95dc04",
   "metadata": {},
   "outputs": [],
   "source": [
    "Q16 Is indentation is required in python?"
   ]
  },
  {
   "cell_type": "code",
   "execution_count": null,
   "id": "f543ee10-ad50-446e-92db-225bf9f867b8",
   "metadata": {},
   "outputs": [],
   "source": [
    "Ans: Python indentation refers to adding white space before a statement to a particular block of code. In another word, all the statements with the same space to the right, belong to the same code."
   ]
  }
 ],
 "metadata": {
  "kernelspec": {
   "display_name": "Python 3 (ipykernel)",
   "language": "python",
   "name": "python3"
  },
  "language_info": {
   "codemirror_mode": {
    "name": "ipython",
    "version": 3
   },
   "file_extension": ".py",
   "mimetype": "text/x-python",
   "name": "python",
   "nbconvert_exporter": "python",
   "pygments_lexer": "ipython3",
   "version": "3.10.8"
  }
 },
 "nbformat": 4,
 "nbformat_minor": 5
}
