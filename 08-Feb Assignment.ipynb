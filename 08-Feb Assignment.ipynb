{
 "cells": [
  {
   "cell_type": "code",
   "execution_count": null,
   "id": "ec95bb6a-d844-4348-b96a-17831df817de",
   "metadata": {},
   "outputs": [],
   "source": [
    "Q1. What is Abstraction in OOps? Explain with an example."
   ]
  },
  {
   "cell_type": "code",
   "execution_count": null,
   "id": "0cf7f950-5edd-43d8-b8c8-9c076ba2becc",
   "metadata": {},
   "outputs": [],
   "source": [
    "Abstraction is the process of hiding the internal details of an application \n",
    "from the outer world. Abstraction is used to describe things in simple \n",
    "terms. It’s used to create a boundary between the application and the client \n",
    "programs."
   ]
  },
  {
   "cell_type": "code",
   "execution_count": null,
   "id": "a0b17d2a-93ac-4325-98ed-1ad7362028f8",
   "metadata": {},
   "outputs": [],
   "source": [
    "\n",
    "from abc import ABC  \n",
    "  \n",
    "class Polygon(ABC):   \n",
    "  \n",
    "   # abstract method   \n",
    "   def sides(self):   \n",
    "      pass  \n",
    "  \n",
    "class Triangle(Polygon):   \n",
    "  \n",
    "     \n",
    "   def sides(self):   \n",
    "      print(\"Triangle has 3 sides\")   \n",
    "  \n",
    "class Pentagon(Polygon):   \n",
    "  \n",
    "     \n",
    "   def sides(self):   \n",
    "      print(\"Pentagon has 5 sides\")   \n",
    "  \n",
    "class Hexagon(Polygon):   \n",
    "  \n",
    "   def sides(self):   \n",
    "      print(\"Hexagon has 6 sides\")   \n",
    "  \n",
    "class square(Polygon):   \n",
    "  \n",
    "   def sides(self):   \n",
    "      print(\"I have 4 sides\")   \n",
    "  \n",
    "# Driver code   \n",
    "t = Triangle()   \n",
    "t.sides()   \n",
    "  \n",
    "s = square()   \n",
    "s.sides()   \n",
    "  \n",
    "p = Pentagon()   \n",
    "p.sides()   \n",
    "  \n"
   ]
  },
  {
   "cell_type": "code",
   "execution_count": null,
   "id": "ed24898a-f855-47cc-9f13-c3e7d9548b1a",
   "metadata": {},
   "outputs": [],
   "source": [
    "Q2. Differentiate between Abstraction and Encapsulation. Explain with \n",
    "an example."
   ]
  },
  {
   "cell_type": "code",
   "execution_count": null,
   "id": "3a2b383b-2cf4-4c05-894c-62374f2b2446",
   "metadata": {},
   "outputs": [],
   "source": [
    "Abstraction:\n",
    "Abstraction is a process of hiding unnecessary data and \n",
    "showing only relevant data. Out of an ocean of data, we are only maintaining\n",
    "the transparency of some data to the user. This important concept in object-\n",
    "oriented programming will reduce the complexity of the code and increases the \n",
    "readability\n",
    "\n",
    "Encapsulation:\n",
    "Encapsulation is binding the data members with member variables. This will \n",
    "avoid the direct access of variables, because direct access of variables may \n",
    "violate privacy, and hiding of the implementation will not be possible."
   ]
  },
  {
   "cell_type": "code",
   "execution_count": null,
   "id": "37369712-93d8-4ca7-9759-12bb276e9d92",
   "metadata": {},
   "outputs": [],
   "source": [
    "class Students:\n",
    "   def __init__(self, name, rank, points):\n",
    "      self.name = name\n",
    "      self.rank = rank\n",
    "      self.points = points\n",
    "\n",
    "   def demofunc(self):\n",
    "      print(\"I am \"+self.name)\n",
    "      print(\"I got Rank \",+self.rank)\n",
    "\n",
    "# create 4 objects\n",
    "st1 = Students(\"Steve\", 1, 100)\n",
    "st2 = Students(\"Chris\", 2, 90)\n",
    "st3 = Students(\"Mark\", 3, 76)\n",
    "st4 = Students(\"Kate\", 4, 60)\n",
    "\n",
    "# call the functions using the objects created above\n",
    "st1.demofunc()\n",
    "st2.demofunc()\n",
    "st3.demofunc()\n",
    "st4.demofunc()"
   ]
  },
  {
   "cell_type": "code",
   "execution_count": null,
   "id": "28c1268b-21ca-4811-a41c-4c3436d96561",
   "metadata": {},
   "outputs": [],
   "source": [
    "# Abstraction and Encapsulation in Python\n",
    " \n",
    "class Library:\n",
    "    def __init__(self, books):\n",
    "        self.books = books\n",
    " \n",
    "    def list_books(self):\n",
    "        print(\"Available Books\")\n",
    "        for book in self.books:\n",
    "            print(book)\n",
    " \n",
    "    def borrow_book(self, borrow_book):\n",
    "        if borrow_book in self.books:\n",
    "            print(\"Get Your Book Now\")\n",
    "            self.books.remove(borrow_book)\n",
    "        else:\n",
    "            print(\"Book not Available\")\n",
    " \n",
    "    def receive_book(self, receive_book):\n",
    "        print(\"You have returned the book\")\n",
    "        self.books.append(receive_book)\n",
    " \n",
    " \n",
    "books = ['C', 'C++', 'Java']\n",
    "o = Library(books)\n",
    " \n",
    "msg = \"\"\"\n",
    "    1.Display Book\n",
    "    2.Borrow Book\n",
    "    3.Return Book\n",
    "\"\"\"\n",
    "while True:\n",
    "    print(msg)\n",
    "    ch = int(input(\"Enter Your Choice : \"))\n",
    "    if ch == 1:\n",
    "        o.list_books()\n",
    "    elif ch == 2:\n",
    "        book = input(\"Enter Book Name To Borrow : \")\n",
    "        o.borrow_book(book)\n",
    "    elif ch == 3:\n",
    "        book = input(\"Enter Book Name To Return : \")\n",
    "        o.receive_book(book)\n",
    "    else:\n",
    "        print(\"Thank You come again\")\n",
    "        quit()"
   ]
  },
  {
   "cell_type": "code",
   "execution_count": null,
   "id": "613ad54f-fe21-4778-8826-57adce33201a",
   "metadata": {},
   "outputs": [],
   "source": [
    "Q3. What is abc module in python? Why is it used?"
   ]
  },
  {
   "cell_type": "code",
   "execution_count": null,
   "id": "d63e879d-5255-4ff8-85a8-577ce788df12",
   "metadata": {},
   "outputs": [],
   "source": [
    "The main goal of the abstract base class is to provide a standardized way \n",
    "to test whether an object adheres to a given specification. It can also \n",
    "prevent any attempt to instantiate a subclass that doesn’t override a \n",
    "particular method in the superclass. And finally, using an abstract class, \n",
    "a class can derive identity from another class without any object inheritance."
   ]
  },
  {
   "cell_type": "code",
   "execution_count": null,
   "id": "cb3f66d4-839b-42bc-b395-6abd6cb89e11",
   "metadata": {},
   "outputs": [],
   "source": [
    "Q4. How can we achieve data abstraction?"
   ]
  },
  {
   "cell_type": "code",
   "execution_count": null,
   "id": "1dcd95de-2f1b-420e-a845-bd8e691ef788",
   "metadata": {},
   "outputs": [],
   "source": [
    "Abstraction in python is defined as a process of handling complexity by \n",
    "hiding unnecessary information from the user. This is one of the core concepts\n",
    "of object-oriented programming (OOP) languages. That enables the user to \n",
    "implement even more complex logic on top of the provided abstraction without \n",
    "understanding or even thinking about all the hidden background/back-end \n",
    "complexity."
   ]
  },
  {
   "cell_type": "code",
   "execution_count": null,
   "id": "a199b15b-0235-4619-a344-8b9f6630a430",
   "metadata": {},
   "outputs": [],
   "source": [
    "Q5. Can we create an instance of an abstract class? Explain your answer."
   ]
  },
  {
   "cell_type": "code",
   "execution_count": null,
   "id": "21458454-daab-4422-b006-2dd08c4d70ff",
   "metadata": {},
   "outputs": [],
   "source": [
    "Abstract classes cannot be instantiated, but they can be subclassed. \n",
    "When an abstract class is subclassed, the subclass usually provides \n",
    "implementations for all of the abstract methods in its parent class. \n",
    "However, if it does not, then the subclass must also be declared abstract."
   ]
  }
 ],
 "metadata": {
  "kernelspec": {
   "display_name": "Python 3 (ipykernel)",
   "language": "python",
   "name": "python3"
  },
  "language_info": {
   "codemirror_mode": {
    "name": "ipython",
    "version": 3
   },
   "file_extension": ".py",
   "mimetype": "text/x-python",
   "name": "python",
   "nbconvert_exporter": "python",
   "pygments_lexer": "ipython3",
   "version": "3.10.8"
  }
 },
 "nbformat": 4,
 "nbformat_minor": 5
}
