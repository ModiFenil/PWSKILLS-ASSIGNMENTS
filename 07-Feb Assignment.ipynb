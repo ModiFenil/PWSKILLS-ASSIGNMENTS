{
 "cells": [
  {
   "cell_type": "code",
   "execution_count": null,
   "id": "739a4051-050b-48c9-8ddc-c7fc5e8bb5ff",
   "metadata": {},
   "outputs": [],
   "source": [
    "Q1. You are writing code for a company. The requirement of the company is that you create a python\n",
    "function that will check whether the password entered by the user is correct or not. The function should\n",
    "take the password as input and return the string “Valid Password” if the entered password follows the\n",
    "below-given password guidelines else it should return “Invalid Password”.\n",
    "\n",
    "Note: \n",
    "\n",
    "1. The Password should contain at least two uppercase letters and at least two lowercase letters.\n",
    "2. The Password should contain at least a number and three special characters.\n",
    "3. The length of the password should be 10 characters long."
   ]
  },
  {
   "cell_type": "code",
   "execution_count": 2,
   "id": "3c013048-71ad-458c-86fc-e62c6c851d05",
   "metadata": {},
   "outputs": [
    {
     "name": "stdin",
     "output_type": "stream",
     "text": [
      "Enter password:  fenil\n"
     ]
    },
    {
     "name": "stdout",
     "output_type": "stream",
     "text": [
      "Enter atleast 2 upper case letter\n",
      "Enter atleast 1 number\n",
      "please enter atleast 3 special character\n",
      "Invalid Password\n"
     ]
    }
   ],
   "source": [
    "str2 = input(\"Enter password: \")\n",
    "mylist = []\n",
    "mylist5 = []\n",
    "\n",
    "#--------------Upper case---------------\n",
    "\n",
    "for i in str2:\n",
    "    if i.isupper(): \n",
    "        mylist.append(len(i))\n",
    "            \n",
    "if len(mylist) >=2 :\n",
    "    # print(\"Upper case is ok\")\n",
    "    mylist5.append(\"Upper case is ok\")\n",
    "else:\n",
    "    print(\"Enter atleast 2 upper case letter\")\n",
    "    \n",
    "\n",
    "\n",
    "#--------------Lower case---------------\n",
    "\n",
    "\n",
    "mylist1 = []\n",
    "for i in str2:\n",
    "    if i.islower():\n",
    "        mylist1.append(len(i))\n",
    "            \n",
    "if len(mylist1) >=2 :\n",
    "    # print(\"Lower case is ok\")\n",
    "    mylist5.append(\"Lower case is ok\")\n",
    "else:\n",
    "    print(\"Enter atleast 2 lower case letter\")\n",
    "    \n",
    "   \n",
    "#--------------isdigit case---------------   \n",
    " \n",
    "    \n",
    "mylist2 = []\n",
    "for i in str2:\n",
    "    if i.isdigit():\n",
    "        mylist2.append(len(i))\n",
    "            \n",
    "if len(mylist2) >=1 :\n",
    "    # print(\"numeber is ok\")\n",
    "    mylist5.append(\"numeber is ok\")\n",
    "else:\n",
    "    print(\"Enter atleast 1 number\")\n",
    "    \n",
    "    \n",
    "#--------------Special character case---------------\n",
    "    \n",
    "list1 = [\"!\", \"@\", \"#\", \"$\", \"%\", \"^\", \"&\", \"*\", \"(\", \")\", \"-\", \"_\", \"+\", \"+\", \"[\", \"]\",\n",
    "         \"{\", \"}\", '|', \"'\", \":\", \";\", \"?\", \"/\", \".\", \">\", \"<\", \"`\", \"~\"]\n",
    "\n",
    "# str1 = input(\"Enter input: \")\n",
    "mylist3 = []\n",
    "for i in str2:\n",
    "    for j in list1:\n",
    "        if i in j:\n",
    "            # print(i) \n",
    "            mylist3.append(i)\n",
    "            break\n",
    "\n",
    "\n",
    "# print(len(mylist))\n",
    "if len(mylist3) >= 3:\n",
    "    # print(\"Special character is ok\")\n",
    "    mylist5.append(\"Special character is ok\")\n",
    "else:\n",
    "    print(\"please enter atleast 3 special character\")\n",
    "    \n",
    "if len(str2) >= 10:\n",
    "    print(\"Valid Password\")\n",
    "else:\n",
    "    print(\"Invalid Password\")\n",
    "    \n",
    "    \n",
    "    \n",
    "# print(mylist5)"
   ]
  },
  {
   "cell_type": "code",
   "execution_count": null,
   "id": "4ac276ed-c1c9-4bec-aec9-ea3a91114765",
   "metadata": {},
   "outputs": [],
   "source": [
    "Q2. Solve the below-given questions using at least one of the following:\n",
    "1. Lambda function\n",
    "2. Filter function\n",
    "3. map function\n",
    "4. List Comprehension\n",
    "\n",
    "1. Check if the string starts with a particular letter\n",
    "2 Check if the string is numeric\n",
    "    3 Sort a list of tuples having fruit names and their quantity. [(\"mango\",99),(\"orange\",80), (\"grapes\", 1000)-\n",
    "4 Find the squares of numbers from 1 to 10\n",
    "5 Find the cube root of numbers from 1 to 10\n",
    "6 Check if a given number is even\n",
    "7 Filter odd numbers from the given list.[1,2,3,4,5,6,7,8,9,10]\n",
    "8 Sort a list of integers into positive and negative integers lists.[1,2,3,4,5,6,-1,-2,-3,-4,-5,0]"
   ]
  },
  {
   "cell_type": "code",
   "execution_count": 1,
   "id": "a5d3f45f-55ae-4170-9189-4275dd5f4d64",
   "metadata": {},
   "outputs": [
    {
     "name": "stdout",
     "output_type": "stream",
     "text": [
      "[True]\n"
     ]
    }
   ],
   "source": [
    "#1.\n",
    "\n",
    "test_list =  \"Fenil Modi\"\n",
    "start_letter = \"F\"\n",
    "\n",
    "with_s = [True for x in test_list if x.startswith(start_letter) ]\n",
    "print(with_s)"
   ]
  },
  {
   "cell_type": "code",
   "execution_count": 2,
   "id": "c07a40d2-e870-470b-9a58-c2e6b2c2d576",
   "metadata": {},
   "outputs": [
    {
     "name": "stdout",
     "output_type": "stream",
     "text": [
      "['1', '2', '3']\n"
     ]
    }
   ],
   "source": [
    "#2.\n",
    "\n",
    "str1 = \"FenilMOdi123\"\n",
    "def n2(str1):\n",
    "    for i in str1:\n",
    "        if i.isnumeric():\n",
    "            for j in i:\n",
    "                return True\n",
    "    else:\n",
    "        return False\n",
    "        \n",
    "a = list(filter(n2,str1))\n",
    "print(a)        "
   ]
  },
  {
   "cell_type": "code",
   "execution_count": 1,
   "id": "b84e8dcd-8840-4d37-a0b1-45eeb5008492",
   "metadata": {},
   "outputs": [
    {
     "name": "stdout",
     "output_type": "stream",
     "text": [
      "[('orange', 80), ('mango', 99), ('grapes', 1000)]\n"
     ]
    }
   ],
   "source": [
    "#3.\n",
    "lst = [(\"mango\",99),(\"orange\",80), (\"grapes\", 1000)]\n",
    "lst.sort(key=lambda x:x[1])\n",
    "print(lst)"
   ]
  },
  {
   "cell_type": "code",
   "execution_count": 3,
   "id": "825bdb28-8d14-41b4-b612-c3e41b9b2bf3",
   "metadata": {},
   "outputs": [
    {
     "name": "stdout",
     "output_type": "stream",
     "text": [
      "[1, 4, 9, 16, 25, 36, 49, 64, 81, 100]\n"
     ]
    }
   ],
   "source": [
    "#4.\n",
    "a = [i**2 for i in range(1,11)]\n",
    "print(a)"
   ]
  },
  {
   "cell_type": "code",
   "execution_count": 4,
   "id": "c0d70e0e-6630-4a22-b727-173c43fc6c06",
   "metadata": {},
   "outputs": [
    {
     "name": "stdout",
     "output_type": "stream",
     "text": [
      "[1, 8, 27, 64, 125, 216, 343, 512, 729, 1000]\n"
     ]
    }
   ],
   "source": [
    "#5.\n",
    "a = [i**3 for i in range(1,11)]\n",
    "print(a)"
   ]
  },
  {
   "cell_type": "code",
   "execution_count": 5,
   "id": "de989405-2510-43b4-82ad-7684b0b3695b",
   "metadata": {},
   "outputs": [
    {
     "name": "stdout",
     "output_type": "stream",
     "text": [
      "[True]\n"
     ]
    }
   ],
   "source": [
    "#6.\n",
    "n = 4\n",
    "\n",
    "a = [True for i in range(n,n+1) if i%2==0 ]\n",
    "print(a)\n"
   ]
  },
  {
   "cell_type": "code",
   "execution_count": 3,
   "id": "2401978b-0a0b-4820-90cc-b1d3866c0905",
   "metadata": {},
   "outputs": [
    {
     "name": "stdout",
     "output_type": "stream",
     "text": [
      "[1, 3, 5, 7, 9]\n"
     ]
    }
   ],
   "source": [
    "#7.\n",
    "l = [1,2,3,4,5,6,7,8,9,10]\n",
    "a = list(filter(lambda x : x%2!=0, l))\n",
    "print(a)"
   ]
  },
  {
   "cell_type": "code",
   "execution_count": 4,
   "id": "d1862219-50f5-40f3-a32f-173bc388d954",
   "metadata": {},
   "outputs": [
    {
     "name": "stdout",
     "output_type": "stream",
     "text": [
      "[-5, -4, -3, -2, -1, 0, 1, 2, 3, 4, 5, 6]\n"
     ]
    }
   ],
   "source": [
    "#8.\n",
    "a = [1,2,3,4,5,6,-1,-2,-3,-4,-5,0]\n",
    "a.sort(key=lambda x: x)\n",
    "print(a)"
   ]
  },
  {
   "cell_type": "code",
   "execution_count": null,
   "id": "018aeb3b-94c5-4c70-b886-4bd6e68a37cc",
   "metadata": {},
   "outputs": [],
   "source": []
  }
 ],
 "metadata": {
  "kernelspec": {
   "display_name": "Python 3 (ipykernel)",
   "language": "python",
   "name": "python3"
  },
  "language_info": {
   "codemirror_mode": {
    "name": "ipython",
    "version": 3
   },
   "file_extension": ".py",
   "mimetype": "text/x-python",
   "name": "python",
   "nbconvert_exporter": "python",
   "pygments_lexer": "ipython3",
   "version": "3.10.8"
  }
 },
 "nbformat": 4,
 "nbformat_minor": 5
}
