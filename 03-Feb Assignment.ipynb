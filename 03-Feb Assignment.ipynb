{
 "cells": [
  {
   "cell_type": "code",
   "execution_count": null,
   "id": "48e32b34-9971-4131-b8cc-0f4269baed18",
   "metadata": {},
   "outputs": [],
   "source": [
    "Q1. Which keyword is used to create a function? Create a function to return a list of odd numbers in the range of 1 to 25."
   ]
  },
  {
   "cell_type": "code",
   "execution_count": null,
   "id": "47765537-cd71-4bd6-b1c9-f7e0320b6c2e",
   "metadata": {},
   "outputs": [],
   "source": [
    "Ans: We can use 'def' keyword to create a function."
   ]
  },
  {
   "cell_type": "code",
   "execution_count": 1,
   "id": "5931dae9-515f-4cd5-b9ac-5bfe75552ac6",
   "metadata": {},
   "outputs": [
    {
     "name": "stdout",
     "output_type": "stream",
     "text": [
      "1\n",
      "3\n",
      "5\n",
      "7\n",
      "9\n",
      "11\n",
      "13\n",
      "15\n",
      "17\n",
      "19\n",
      "21\n",
      "23\n",
      "25\n",
      "27\n"
     ]
    }
   ],
   "source": [
    "# A function to return a list of odd numbers in the range of 1 to 25.\n",
    "\n",
    "def odd_number(num):\n",
    "     for i in range(num+1):\n",
    "        if i%2 != 0:\n",
    "            print(i)\n",
    "(odd_number(28))"
   ]
  },
  {
   "cell_type": "code",
   "execution_count": null,
   "id": "0eda0be3-179a-4bfc-8be4-d2861c58703b",
   "metadata": {},
   "outputs": [],
   "source": [
    "Q2. Why *args and **kwargs is used in some functions? Create a function each for *args and **kwargs to demonstrate their use."
   ]
  },
  {
   "cell_type": "code",
   "execution_count": null,
   "id": "26e32fb8-a3d8-48b3-a2ca-c3eac198af41",
   "metadata": {},
   "outputs": [],
   "source": [
    "Ans: \n",
    "    \n",
    "*args:  *args allows us to pass a variable number of non-keyword \n",
    "arguments to a Python function. In the function, we should use an \n",
    "asterisk(*)before the parameter name to pass a variable number of arguments.\n",
    "\n",
    "Kwargs:   **kwargs allows us to pass a variable number of keyword arguments to a\n",
    "Python function. In the function, we use the double-asterisk (**) before \n",
    "the parameter name to denote this type of argument"
   ]
  },
  {
   "cell_type": "code",
   "execution_count": 2,
   "id": "0b244c7b-4ad3-49c0-831e-345de48a8baa",
   "metadata": {},
   "outputs": [
    {
     "data": {
      "text/plain": [
       "6"
      ]
     },
     "execution_count": 2,
     "metadata": {},
     "output_type": "execute_result"
    }
   ],
   "source": [
    "#example of *args\n",
    "\n",
    "def adding(*args):\n",
    "    num = 0\n",
    "    for i in args:\n",
    "        num = num + i\n",
    "    return num\n",
    "\n",
    "adding(1,2,3)"
   ]
  },
  {
   "cell_type": "code",
   "execution_count": 3,
   "id": "4455b65d-67f7-45b6-a80d-d18bddddd4a0",
   "metadata": {},
   "outputs": [
    {
     "name": "stdout",
     "output_type": "stream",
     "text": [
      "20\n",
      "30\n",
      "12\n"
     ]
    }
   ],
   "source": [
    "#example of **kwargs\n",
    "\n",
    "def total_fruits(**fruits):\n",
    "    total = 0\n",
    "    for amount in fruits.values():\n",
    "        total = total + amount\n",
    "    return total\n",
    "\n",
    "\n",
    "print(total_fruits(apple=5, ananas=7, banana=8))\n",
    "print(total_fruits(banana=5, mango=7, apple=8, oranges=10))\n",
    "print(total_fruits(banana=5, mango=7))"
   ]
  },
  {
   "cell_type": "code",
   "execution_count": null,
   "id": "b71ee72c-b5a1-45b1-a5db-4db92af1b705",
   "metadata": {},
   "outputs": [],
   "source": [
    "Q3. What is an iterator in python? Name the method used to initialise the iterator object and the method\n",
    "used for iteration. Use these methods to print the first five elements of the given list [2, 4, 6, 8, 10, 12, 14,\n",
    "16, 18, 20]."
   ]
  },
  {
   "cell_type": "code",
   "execution_count": null,
   "id": "d19b7689-0d8b-4987-8f4b-668c99e8e46a",
   "metadata": {},
   "outputs": [],
   "source": [
    "Ans:\n",
    "1. __iter__(): The iter() method is called for the initialization of an iterator. This returns an iterator object.\n",
    "\n",
    "2.__next__(): The next method returns the next value for the iterable. When we use a for loop to traverse any iterable object, internally it uses the iter() method to get an iterator object, which further uses the next() method to iterate over. This method raises a StopIteration to signal the end of the iteration."
   ]
  },
  {
   "cell_type": "code",
   "execution_count": 4,
   "id": "f86d8581-5ce6-410f-a5ef-4509f2f4a477",
   "metadata": {},
   "outputs": [
    {
     "data": {
      "text/plain": [
       "5"
      ]
     },
     "execution_count": 4,
     "metadata": {},
     "output_type": "execute_result"
    }
   ],
   "source": [
    "#Example:\n",
    "l1  =[1,2,3,4,5,7,8]\n",
    "a = iter(l1)\n",
    "next(a)\n",
    "next(a)\n",
    "next(a)\n",
    "next(a)\n",
    "next(a)"
   ]
  },
  {
   "cell_type": "code",
   "execution_count": null,
   "id": "eb4b8183-5a6f-44c2-86c4-4776ab6b6ae9",
   "metadata": {},
   "outputs": [],
   "source": [
    "Q4. What is a generator function in python? Why yield keyword is used? Give an example of a generator function."
   ]
  },
  {
   "cell_type": "code",
   "execution_count": null,
   "id": "7573f51c-f8d0-48b2-aa4d-ccc9edca39ca",
   "metadata": {},
   "outputs": [],
   "source": [
    "Ans:  Generator functions allow you to declare a function that behaves \n",
    "likes an iterator, allowing programmers to make an iterator in a fast, \n",
    "easy, and clean way.vyield keyword is used to create a generator function. \n",
    "\n"
   ]
  },
  {
   "cell_type": "code",
   "execution_count": 5,
   "id": "4e8ea2fa-f466-43fb-8908-6af8938fb5c7",
   "metadata": {},
   "outputs": [
    {
     "name": "stdout",
     "output_type": "stream",
     "text": [
      "15\n",
      "30\n",
      "45\n",
      "60\n",
      "75\n",
      "90\n",
      "105\n",
      "120\n",
      "135\n",
      "150\n"
     ]
    }
   ],
   "source": [
    "# Example:\n",
    "def table(n):  \n",
    "    for i in range(1,11):  \n",
    "        yield n*i  \n",
    "        i = i+1  \n",
    "for i in table(15):  \n",
    "    print(i)  "
   ]
  },
  {
   "cell_type": "code",
   "execution_count": null,
   "id": "61481edc-1f48-42d2-adc7-97b9865f233a",
   "metadata": {},
   "outputs": [],
   "source": [
    "Q5. Create a generator function for prime numbers less than 1000. Use the next() method to print the first 20 prime numbers."
   ]
  },
  {
   "cell_type": "code",
   "execution_count": 1,
   "id": "68f86c48-640f-4a47-a645-83a1ad80c464",
   "metadata": {},
   "outputs": [
    {
     "name": "stdout",
     "output_type": "stream",
     "text": [
      " 2\n",
      " 3\n",
      " 5\n",
      " 7\n",
      " 11\n",
      " 13\n",
      " 17\n",
      " 19\n",
      " 23\n",
      " 29\n",
      " 31\n",
      " 37\n",
      " 41\n",
      " 43\n",
      " 47\n",
      " 53\n",
      " 59\n",
      " 61\n",
      " 67\n",
      " 71\n"
     ]
    }
   ],
   "source": [
    "def generating(starting_num,ending_num):\n",
    "    for i in range(starting_num,ending_num + 1):\n",
    "        count = 0\n",
    "        for i1 in range(2, (i//2 + 1) ):\n",
    "            if i % i1 == 0:\n",
    "                count = count + 1\n",
    "                break\n",
    "        if (count == 0 and i != 1):\n",
    "            yield(\" %d\" %i)\n",
    "\n",
    "new = generating(1,1000)\n",
    "\n",
    "for i in range(20):\n",
    "    print(next(new))\n",
    "\n"
   ]
  },
  {
   "cell_type": "code",
   "execution_count": null,
   "id": "88d90082-71fa-4f31-8fc6-8d3d9a2dce3e",
   "metadata": {},
   "outputs": [],
   "source": [
    "Q6. Write a python program to print the first 10 Fibonacci numbers using a while loop."
   ]
  },
  {
   "cell_type": "code",
   "execution_count": 9,
   "id": "e5aeb8f5-4eb5-43ab-a94c-f2f9825fe33e",
   "metadata": {},
   "outputs": [
    {
     "data": {
      "text/plain": [
       "89"
      ]
     },
     "execution_count": 9,
     "metadata": {},
     "output_type": "execute_result"
    }
   ],
   "source": [
    "# n = int(input(\"Enter number: \"))\n",
    "n = 10\n",
    "a,b = 0,1\n",
    "counter = 0\n",
    "while counter<n:\n",
    "    # print(counter)\n",
    "    c = a + b\n",
    "    a = b\n",
    "    b = c\n",
    "    counter = counter + 1\n",
    "c\n",
    "    "
   ]
  },
  {
   "cell_type": "code",
   "execution_count": null,
   "id": "8cdffc32-33af-4396-b9fd-837ffa0e4087",
   "metadata": {},
   "outputs": [],
   "source": [
    "Q7. Write a List Comprehension to iterate through the given string: ‘pwskills’.\n",
    "Expected output: ['p', 'w', 's', 'k', 'i', 'l', 'l', 's']"
   ]
  },
  {
   "cell_type": "code",
   "execution_count": 12,
   "id": "db7dcbe7-8c23-4af6-9489-f8026b15596c",
   "metadata": {},
   "outputs": [
    {
     "name": "stdout",
     "output_type": "stream",
     "text": [
      "['p', 'w', 's', 'k', 'i', 'l', 'l', 's']\n"
     ]
    }
   ],
   "source": [
    "str = \"pwskills\"\n",
    "a = [i for i in str]\n",
    "print(a)"
   ]
  },
  {
   "cell_type": "code",
   "execution_count": null,
   "id": "3a46a95c-65d5-429d-84e1-14b917cf9188",
   "metadata": {},
   "outputs": [],
   "source": [
    "Q8 Write a program to check whether a given number is palindrome or not\n",
    "using a while loop."
   ]
  },
  {
   "cell_type": "code",
   "execution_count": 2,
   "id": "adcaa587-ec3e-415a-b9d1-6ef6f246c014",
   "metadata": {},
   "outputs": [
    {
     "name": "stdin",
     "output_type": "stream",
     "text": [
      "Enter number:  2002\n"
     ]
    },
    {
     "name": "stdout",
     "output_type": "stream",
     "text": [
      "The number is palindrome\n"
     ]
    }
   ],
   "source": [
    "Mylist = []\n",
    "\n",
    "i = input(\"Enter number: \")\n",
    "a = 0\n",
    "while len(Mylist) < True:\n",
    "    Mylist.append(i)\n",
    "    if i[::] == i[::-1]:\n",
    "        print(\"The number is palindrome\")\n",
    "    else:\n",
    "        print(\"The number is not palindrome\")\n",
    "    a += 1\n",
    "# print(Mylist)"
   ]
  },
  {
   "cell_type": "code",
   "execution_count": null,
   "id": "2f94aad2-d94b-42e6-8bdf-e1f3ccb101d6",
   "metadata": {},
   "outputs": [],
   "source": [
    "Q10 Write a code to print odd numbers from 1 to 100 using list comprehension."
   ]
  },
  {
   "cell_type": "code",
   "execution_count": 11,
   "id": "cd35b4bf-092e-4f02-af31-adfb7bffd31a",
   "metadata": {},
   "outputs": [
    {
     "name": "stdout",
     "output_type": "stream",
     "text": [
      "[1, 3, 5, 7, 9, 11, 13, 15, 17, 19, 21, 23, 25, 27, 29, 31, 33, 35, 37, 39, 41, 43, 45, 47, 49, 51, 53, 55, 57, 59, 61, 63, 65, 67, 69, 71, 73, 75, 77, 79, 81, 83, 85, 87, 89, 91, 93, 95, 97, 99]\n"
     ]
    }
   ],
   "source": [
    "a = [i for i in range(1,101) if i%2 != 0]\n",
    "print(a)"
   ]
  },
  {
   "cell_type": "code",
   "execution_count": null,
   "id": "30636157-294f-4012-988c-f89beadf1302",
   "metadata": {},
   "outputs": [],
   "source": []
  }
 ],
 "metadata": {
  "kernelspec": {
   "display_name": "Python 3 (ipykernel)",
   "language": "python",
   "name": "python3"
  },
  "language_info": {
   "codemirror_mode": {
    "name": "ipython",
    "version": 3
   },
   "file_extension": ".py",
   "mimetype": "text/x-python",
   "name": "python",
   "nbconvert_exporter": "python",
   "pygments_lexer": "ipython3",
   "version": "3.10.8"
  }
 },
 "nbformat": 4,
 "nbformat_minor": 5
}
