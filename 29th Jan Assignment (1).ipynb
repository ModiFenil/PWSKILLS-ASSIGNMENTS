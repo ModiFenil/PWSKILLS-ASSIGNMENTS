{
 "cells": [
  {
   "cell_type": "raw",
   "id": "efa41807-a57c-4b84-a500-a14e9f9617d6",
   "metadata": {},
   "source": [
    "Q1 Who developed python programming language?"
   ]
  },
  {
   "cell_type": "raw",
   "id": "bd1916ba-d126-4113-81e3-8a5860600bcf",
   "metadata": {},
   "source": [
    "Ans: Python was initially designed by Guido van Rossum in 1991 and developed by Python Software    Foundation.Python is a widely-used general-purpose, high-level programming language.  "
   ]
  },
  {
   "cell_type": "raw",
   "id": "5ce11e1f-b373-42cf-9b8a-7099f5d984d2",
   "metadata": {},
   "source": [
    "Q2 Which type of programming does python support?"
   ]
  },
  {
   "cell_type": "raw",
   "id": "49988c73-fa09-48c1-8cd5-d28d945a1d03",
   "metadata": {},
   "source": [
    "Ans: Python supports Object oriented programming, structured programming, and functional programming."
   ]
  },
  {
   "cell_type": "raw",
   "id": "a50710f9-3e45-4822-8f13-6ba933b0cc9f",
   "metadata": {},
   "source": [
    "Q3 Is python case sensitive when dealing with identifiers?"
   ]
  },
  {
   "cell_type": "raw",
   "id": "8b668171-477f-4a6e-8edd-8280f0d6e6b7",
   "metadata": {},
   "source": [
    "Ans: Yes python is case sensitive language when dealing with identifiers. "
   ]
  },
  {
   "cell_type": "raw",
   "id": "fb59ae3c-a179-40b9-baf1-5b5739d35fc2",
   "metadata": {},
   "source": [
    "Q4 What is the correct extesion of the python file?"
   ]
  },
  {
   "cell_type": "raw",
   "id": "d42e9ad4-5d7e-4284-ba25-26b771dcf56d",
   "metadata": {},
   "source": [
    "Ans: The correct extension of python file is '.py'"
   ]
  },
  {
   "cell_type": "raw",
   "id": "795056f6-735d-48ac-acb2-5b2d58c0092c",
   "metadata": {},
   "source": [
    "Q5 Is python code is compiled or interpreted?"
   ]
  },
  {
   "cell_type": "raw",
   "id": "20ebaa0d-9c78-41c9-96de-4888d5023ee3",
   "metadata": {},
   "source": [
    "Ans: Python code is compiled as well and interpreted."
   ]
  },
  {
   "cell_type": "raw",
   "id": "09ebc4e2-6638-4268-ba72-45fcab67b421",
   "metadata": {},
   "source": [
    "Q6 Name a few blocks of code used to define in python language? "
   ]
  },
  {
   "cell_type": "raw",
   "id": "9ab3ddd1-60ad-485f-81de-11af8edffd28",
   "metadata": {},
   "source": [
    "Ans: a module, a function body, and a class definition. Each command typed interactively is a block. A script file is a code block."
   ]
  },
  {
   "cell_type": "raw",
   "id": "c2d41ba0-5cec-4f85-b37e-29c8dfcebdcd",
   "metadata": {},
   "source": [
    "Q7 State a character used to give single line comments in python?"
   ]
  },
  {
   "cell_type": "raw",
   "id": "cdbfb867-2e11-4ef9-8dd8-ef253c127edf",
   "metadata": {},
   "source": [
    "Ans: In python for single line comment we used '#'."
   ]
  },
  {
   "cell_type": "raw",
   "id": "e2675e64-3da2-4544-b680-cd55ccab035d",
   "metadata": {},
   "source": [
    "Q8 Mention functions which can help us to find the version of python that we are currently working on?"
   ]
  },
  {
   "cell_type": "raw",
   "id": "eb87dc0c-5210-4e80-a3b0-4b7d02cdf848",
   "metadata": {},
   "source": [
    "Ans: In python 'sys.version' using we can find the version which we are currently working on."
   ]
  },
  {
   "cell_type": "raw",
   "id": "c43cb0b5-dcec-4ea6-a194-37773171dd5f",
   "metadata": {},
   "source": [
    "Q9 Python supports the creation of anonymous functions at runtime, using a construct called----"
   ]
  },
  {
   "cell_type": "raw",
   "id": "bc59f88b-2c50-4fdc-9f5a-45845b23ddef",
   "metadata": {},
   "source": [
    "Ans: Python supports the creation of anonymous functions at runtime, using a construct called lambda."
   ]
  },
  {
   "cell_type": "raw",
   "id": "88dfd262-91fb-4fe0-bbe6-8612d733450d",
   "metadata": {},
   "source": [
    "Q10 what does pip stands for python?"
   ]
  },
  {
   "cell_type": "raw",
   "id": "b78e4104-56b1-4024-a4d6-70ad5d54a97b",
   "metadata": {},
   "source": [
    "Ans: Pip stands for Preferred installer program."
   ]
  },
  {
   "cell_type": "raw",
   "id": "ba62c085-3da7-4b29-be91-0ed68b0d0be3",
   "metadata": {},
   "source": [
    "Q11 Mention a few built in functions in python?"
   ]
  },
  {
   "cell_type": "raw",
   "id": "9b11fd09-a28d-4d42-bd8a-2b5e2268bdd3",
   "metadata": {},
   "source": [
    "Ans: Built in functions in python are: filter(), float(), hash(), input(), len(), list(), map(), etc.."
   ]
  },
  {
   "cell_type": "raw",
   "id": "d6003676-57c6-4dfa-9e6b-f088542dd669",
   "metadata": {},
   "source": [
    "Q12 What is the maximum possible length of an identifier in python?"
   ]
  },
  {
   "cell_type": "raw",
   "id": "6c5023a2-807e-4d62-945a-768278ccb2fd",
   "metadata": {},
   "source": [
    "Ans: An identifier can have maximum of length is 79 characters."
   ]
  },
  {
   "cell_type": "raw",
   "id": "bfcaaa37-805f-48d4-9f11-ed6385e5449f",
   "metadata": {},
   "source": [
    "Q13 What are the benifit of using python?"
   ]
  },
  {
   "cell_type": "raw",
   "id": "350c5adf-d071-4875-ad4d-702535100d53",
   "metadata": {},
   "source": [
    "Ans: Easy to read ,learn and write code.\n",
    "     High level language.\n",
    "     Object-Oriented and Procedural  Programming language.\n",
    "     Portable and interactive.\n",
    "     Internet of things opportunity.\n",
    "     Interpreted language, There are some of few benifits using Python language."
   ]
  },
  {
   "cell_type": "raw",
   "id": "85117565-b063-4386-8dfb-2615a8dc4a25",
   "metadata": {},
   "source": [
    "Q14 How is memory manage in python? "
   ]
  },
  {
   "cell_type": "raw",
   "id": "fbc3061b-9ccd-41b1-a3e8-b81e6e194f2f",
   "metadata": {},
   "source": [
    "Ans: Garbage collection is a process in which the interpreter frees up the memory when not in use to make it available for other objects."
   ]
  },
  {
   "cell_type": "raw",
   "id": "514906e7-244f-4f56-b804-39b7b083f897",
   "metadata": {},
   "source": [
    "Q15 How to install python on windows and set path variables?"
   ]
  },
  {
   "cell_type": "raw",
   "id": "2d827c3c-545a-43c1-b3df-4ec175c71cc7",
   "metadata": {},
   "source": [
    "Ans: Using chrome browser we can search this https://www.python.org/downloads/. after downloading some of permission we accept and install the python and after that some of few steps to set path using below instrucions:\n",
    "\n",
    "     1.Right-clicking This PC and going to Properties.\n",
    "     2.Clicking on the Advanced system settings in the menu on the left.\n",
    "     3.Clicking on the Environment Variables button on the bottom right.\n",
    "     4.In the System variables section, selecting the Path variable and clicking on Edit. The            next screen will show all the directories that are currently a part of the PATH variable.\n",
    "     5.Clicking on New and entering Python’s install directory. "
   ]
  },
  {
   "cell_type": "raw",
   "id": "2f9d8330-2fba-4001-abce-bc630c3d81a8",
   "metadata": {},
   "source": [
    "Q16 Is indentation is required in python?"
   ]
  },
  {
   "cell_type": "raw",
   "id": "596d85df-27eb-41e4-b4b2-a4495a9c5756",
   "metadata": {},
   "source": [
    "Ans: Python indentation refers to adding white space before a statement to a particular block of code. In another word, all the statements with the same space to the right, belong to the same code."
   ]
  }
 ],
 "metadata": {
  "kernelspec": {
   "display_name": "Python 3 (ipykernel)",
   "language": "python",
   "name": "python3"
  },
  "language_info": {
   "codemirror_mode": {
    "name": "ipython",
    "version": 3
   },
   "file_extension": ".py",
   "mimetype": "text/x-python",
   "name": "python",
   "nbconvert_exporter": "python",
   "pygments_lexer": "ipython3",
   "version": "3.10.8"
  }
 },
 "nbformat": 4,
 "nbformat_minor": 5
}
