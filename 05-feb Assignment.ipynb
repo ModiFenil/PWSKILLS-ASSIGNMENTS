{
 "cells": [
  {
   "cell_type": "code",
   "execution_count": null,
   "id": "f3353642-38f8-4d07-a9cd-52d6c596ac78",
   "metadata": {},
   "outputs": [],
   "source": [
    "Q1. Explain Class and Object with respect to Object-Oriented Programming. Give a suitable example."
   ]
  },
  {
   "cell_type": "code",
   "execution_count": null,
   "id": "7da60fbf-cafd-46f4-ba41-ab7d7c3722be",
   "metadata": {},
   "outputs": [],
   "source": [
    "Ans: \n",
    "Class: A class is considered as a blueprint of objects. We can think of the \n",
    "class as a sketch (prototype) of a house. It contains all the details about the floors, doors, windows, etc. Based on these descriptions we build the house. House is the object.\n",
    "\n",
    "object: An object is called an instance of a class. For example, suppose Bike is a class then we can create objects like bike1, bike2, etc from the class."
   ]
  },
  {
   "cell_type": "code",
   "execution_count": 9,
   "id": "944a2705-dbb7-411d-9b9b-de5f65aac5af",
   "metadata": {},
   "outputs": [
    {
     "name": "stdout",
     "output_type": "stream",
     "text": [
      "Name: TATA Nexon, Gears: 0 \n"
     ]
    }
   ],
   "source": [
    "#Example: \n",
    "\n",
    "class car:\n",
    "    name = \"\"\n",
    "    gear = 0\n",
    "\n",
    "\n",
    "car1 = car()\n",
    "\n",
    "car1.gear = 6\n",
    "car.name = \"TATA Nexon\"\n",
    "\n",
    "print(f\"Name: {car.name}, Gears: {car.gear} \")"
   ]
  },
  {
   "cell_type": "code",
   "execution_count": null,
   "id": "11a52bd3-1cfa-4659-aca8-24af02e1e1b5",
   "metadata": {},
   "outputs": [],
   "source": [
    "Q2. Name the four pillars of OOPs."
   ]
  },
  {
   "cell_type": "code",
   "execution_count": null,
   "id": "47a9eff7-6731-42f7-b554-c2b73e52893e",
   "metadata": {},
   "outputs": [],
   "source": [
    "Ans: \n",
    "1. Inheritance\n",
    "2. Polymorphism\n",
    "3. Encapsulation \n",
    "4. Abstraction"
   ]
  },
  {
   "cell_type": "code",
   "execution_count": null,
   "id": "8f562df9-15e7-4f6c-a247-11cb5d3c8d80",
   "metadata": {},
   "outputs": [],
   "source": [
    "Q3. Explain why the __init__() function is used. Give a suitable example."
   ]
  },
  {
   "cell_type": "code",
   "execution_count": null,
   "id": "e6e735fd-9263-45c2-b930-812ab01adc0e",
   "metadata": {},
   "outputs": [],
   "source": [
    "Ans: A constructor is a special method that the program calls upon an object’s creation. The constructor is used in the class to initialize data members to the object. constructor, allowing a class to hold objects with different values."
   ]
  },
  {
   "cell_type": "code",
   "execution_count": 19,
   "id": "b2b6d5b5-2eef-4064-bac3-af49c066603c",
   "metadata": {},
   "outputs": [
    {
     "data": {
      "text/plain": [
       "'White'"
      ]
     },
     "execution_count": 19,
     "metadata": {},
     "output_type": "execute_result"
    }
   ],
   "source": [
    "#Example: \n",
    "class car:\n",
    "    def __init__(self,car_name,car_colour,car_gear):\n",
    "        self.car_name = car_name\n",
    "        self.car_colour = car_colour\n",
    "        self.car_gear = car_gear\n",
    "\n",
    "nexon = car(\"Nexon\", \"White\",6)\n",
    "nexon.car_colour"
   ]
  },
  {
   "cell_type": "code",
   "execution_count": null,
   "id": "875f71e3-744c-4ede-a476-3c025aa3427c",
   "metadata": {},
   "outputs": [],
   "source": [
    "Q4. Why self is used in OOPs?"
   ]
  },
  {
   "cell_type": "code",
   "execution_count": null,
   "id": "f5cd544b-9587-446b-80ac-670e5cb69bd5",
   "metadata": {},
   "outputs": [],
   "source": [
    "Ans: The self variable is used to represent the instance of the class which is often used in object-oriented programming. Python uses the self parameter to refer to instance attributes and methods of the class."
   ]
  },
  {
   "cell_type": "code",
   "execution_count": null,
   "id": "09b4e1be-a9c8-4402-881e-bbf7dfacaf2d",
   "metadata": {},
   "outputs": [],
   "source": [
    "Q5. What is inheritance? Give an example for each type of inheritance."
   ]
  },
  {
   "cell_type": "code",
   "execution_count": null,
   "id": "55178db5-4849-41a5-b7e5-dc10ce8755b7",
   "metadata": {},
   "outputs": [],
   "source": [
    "Ans: Inheritance is a process of obtaining properties and characteristics(variables and methods) of another class. In this hierarchical order, the class which inherits another class is called subclass or child class, and the other class is the parent class.\n",
    "\n",
    "1. Single inheritance: When a Derived Class to inherit properties and behaviour from a single Base Class ,it is called as single inheritance."
   ]
  },
  {
   "cell_type": "code",
   "execution_count": 20,
   "id": "f2039ddf-dd01-4d57-aaf2-982b66ae8f41",
   "metadata": {},
   "outputs": [
    {
     "name": "stdout",
     "output_type": "stream",
     "text": [
      "This function is in parent class.\n",
      "This function is in child class.\n"
     ]
    }
   ],
   "source": [
    "# Single Inheritance: \n",
    "class Parent:\n",
    "\tdef func1(self):\n",
    "\t\tprint(\"This function is in parent class.\")\n",
    "\n",
    "class Child(Parent):\n",
    "\tdef func2(self):\n",
    "\t\tprint(\"This function is in child class.\")\n",
    "\n",
    "object = Child()\n",
    "object.func1()\n",
    "object.func2()\n"
   ]
  },
  {
   "cell_type": "code",
   "execution_count": null,
   "id": "31c85c89-3b95-4010-83bd-2dee8143269d",
   "metadata": {},
   "outputs": [],
   "source": [
    "2. Multiple Inheritance: Multiple inheritances allows programmers to create classes that combine aspects of multiple classes and their corresponding hierarchies."
   ]
  },
  {
   "cell_type": "code",
   "execution_count": 22,
   "id": "5f6beeed-8de9-4e07-81d4-0e7fa1011fb7",
   "metadata": {},
   "outputs": [
    {
     "name": "stdout",
     "output_type": "stream",
     "text": [
      "Father : Dilipbhai\n",
      "Mother : Sonalben\n"
     ]
    }
   ],
   "source": [
    "# multiple inheritance\n",
    "\n",
    "class Mother:\n",
    "\tmothername = \"\"\n",
    "\n",
    "\tdef mother(self):\n",
    "\t\tprint(self.mothername)\n",
    "\n",
    "class Father:\n",
    "\tfathername = \"\"\n",
    "\n",
    "\tdef father(self):\n",
    "\t\tprint(self.fathername)\n",
    "\n",
    "class Son(Mother, Father):\n",
    "\tdef parents(self):\n",
    "\t\tprint(\"Father :\", self.fathername)\n",
    "\t\tprint(\"Mother :\", self.mothername)\n",
    "\n",
    "s1 = Son()\n",
    "s1.fathername = \"Dilipbhai\"\n",
    "s1.mothername = \"Sonalben\"\n",
    "s1.parents()\n"
   ]
  },
  {
   "cell_type": "code",
   "execution_count": null,
   "id": "68403ef7-beed-414f-b15b-80f162159f7e",
   "metadata": {},
   "outputs": [],
   "source": [
    "3. Multilevel inheritance:A derived class is created from another derived class is called Multi Level Inheritance "
   ]
  },
  {
   "cell_type": "code",
   "execution_count": 24,
   "id": "0b81d532-b803-4cf8-bab9-7052afa29fd9",
   "metadata": {},
   "outputs": [
    {
     "name": "stdout",
     "output_type": "stream",
     "text": [
      "Baldevbhai\n",
      "Grandfather name : Baldevbhai\n",
      "Father name : Dilipbhai\n",
      "Son name : Fenil\n"
     ]
    }
   ],
   "source": [
    "# multilevel inheritance\n",
    "\n",
    "class Grandfather:\n",
    "\n",
    "\tdef __init__(self, grandfathername):\n",
    "\t\tself.grandfathername = grandfathername\n",
    "\n",
    "class Father(Grandfather):\n",
    "\tdef __init__(self, fathername, grandfathername):\n",
    "\t\tself.fathername = fathername\n",
    "\n",
    "\t\tGrandfather.__init__(self, grandfathername)\n",
    "\n",
    "class Son(Father):\n",
    "\tdef __init__(self, sonname, fathername, grandfathername):\n",
    "\t\tself.sonname = sonname\n",
    "\n",
    "\t\tFather.__init__(self, fathername, grandfathername)\n",
    "\n",
    "\tdef print_name(self):\n",
    "\t\tprint('Grandfather name :', self.grandfathername)\n",
    "\t\tprint(\"Father name :\", self.fathername)\n",
    "\t\tprint(\"Son name :\", self.sonname)\n",
    "\n",
    "\n",
    "\n",
    "s1 = Son('Fenil', 'Dilipbhai', 'Baldevbhai')\n",
    "print(s1.grandfathername)\n",
    "s1.print_name()\n"
   ]
  },
  {
   "cell_type": "code",
   "execution_count": null,
   "id": "58970738-310e-4237-8be6-8a89b2a7037c",
   "metadata": {},
   "outputs": [],
   "source": [
    "4. Hierarchical Inheritance: More than one derived classes are created from a single base class, is called Hierarchical Inheritance ."
   ]
  },
  {
   "cell_type": "code",
   "execution_count": 25,
   "id": "d4299422-9557-4934-9051-1ae4ca8f59ca",
   "metadata": {},
   "outputs": [
    {
     "name": "stdout",
     "output_type": "stream",
     "text": [
      "This function is in parent class.\n",
      "This function is in child 1.\n",
      "This function is in parent class.\n",
      "This function is in child 2.\n"
     ]
    }
   ],
   "source": [
    "# Hierarchical inheritance\n",
    "class Parent:\n",
    "\tdef func1(self):\n",
    "\t\tprint(\"This function is in parent class.\")\n",
    "\n",
    "class Child1(Parent):\n",
    "\tdef func2(self):\n",
    "\t\tprint(\"This function is in child 1.\")\n",
    "\n",
    "class Child2(Parent):\n",
    "\tdef func3(self):\n",
    "\t\tprint(\"This function is in child 2.\")\n",
    "\n",
    "object1 = Child1()\n",
    "object2 = Child2()\n",
    "object1.func1()\n",
    "object1.func2()\n",
    "object2.func1()\n",
    "object2.func3()\n"
   ]
  },
  {
   "cell_type": "code",
   "execution_count": null,
   "id": "6310f317-8177-4e15-b980-8e1df1029ad8",
   "metadata": {},
   "outputs": [],
   "source": [
    "5. Hybrid Inheritance: Any combination of three inheritance (single, hierarchical and multi level) is called as hybrid inheritance."
   ]
  },
  {
   "cell_type": "code",
   "execution_count": 26,
   "id": "a3a844f6-e982-4081-8421-001f31b65c47",
   "metadata": {},
   "outputs": [
    {
     "name": "stdout",
     "output_type": "stream",
     "text": [
      "This function is in school.\n",
      "This function is in student 1. \n"
     ]
    }
   ],
   "source": [
    "# hybrid inheritance\n",
    "\n",
    "class School:\n",
    "\tdef func1(self):\n",
    "\t\tprint(\"This function is in school.\")\n",
    "\n",
    "\n",
    "class Student1(School):\n",
    "\tdef func2(self):\n",
    "\t\tprint(\"This function is in student 1. \")\n",
    "\n",
    "\n",
    "class Student2(School):\n",
    "\tdef func3(self):\n",
    "\t\tprint(\"This function is in student 2.\")\n",
    "\n",
    "\n",
    "class Student3(Student1, School):\n",
    "\tdef func4(self):\n",
    "\t\tprint(\"This function is in student 3.\")\n",
    "\n",
    "object = Student3()\n",
    "object.func1()\n",
    "object.func2()\n"
   ]
  }
 ],
 "metadata": {
  "kernelspec": {
   "display_name": "Python 3 (ipykernel)",
   "language": "python",
   "name": "python3"
  },
  "language_info": {
   "codemirror_mode": {
    "name": "ipython",
    "version": 3
   },
   "file_extension": ".py",
   "mimetype": "text/x-python",
   "name": "python",
   "nbconvert_exporter": "python",
   "pygments_lexer": "ipython3",
   "version": "3.10.8"
  }
 },
 "nbformat": 4,
 "nbformat_minor": 5
}
